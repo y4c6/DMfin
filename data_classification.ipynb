{
 "cells": [
  {
   "cell_type": "markdown",
   "metadata": {},
   "source": [
    "## import pkg"
   ]
  },
  {
   "cell_type": "code",
   "execution_count": 1,
   "metadata": {},
   "outputs": [],
   "source": [
    "# import sktime"
   ]
  },
  {
   "cell_type": "markdown",
   "metadata": {},
   "source": [
    "### for preprocessing, we have different methods for different column (horizontal)"
   ]
  },
  {
   "cell_type": "code",
   "execution_count": 5,
   "metadata": {},
   "outputs": [],
   "source": [
    "from sklearn.compose import ColumnTransformer"
   ]
  },
  {
   "cell_type": "markdown",
   "metadata": {},
   "source": [
    "### for model training, we have step-by-step methods (vertical)"
   ]
  },
  {
   "cell_type": "code",
   "execution_count": 6,
   "metadata": {},
   "outputs": [],
   "source": [
    "from sklearn.pipeline import make_pipeline"
   ]
  },
  {
   "cell_type": "markdown",
   "metadata": {},
   "source": [
    "### for Nan Numerical data in dp, i use KNNImputer"
   ]
  },
  {
   "cell_type": "code",
   "execution_count": 7,
   "metadata": {},
   "outputs": [],
   "source": [
    "# from sklearn.impute import KNNImputer"
   ]
  },
  {
   "attachments": {},
   "cell_type": "markdown",
   "metadata": {},
   "source": [
    "### for Nan categorical data, i use sklearn.impute.SimpleImputer"
   ]
  },
  {
   "cell_type": "code",
   "execution_count": 3,
   "metadata": {},
   "outputs": [],
   "source": [
    "from sklearn.impute import SimpleImputer"
   ]
  },
  {
   "attachments": {},
   "cell_type": "markdown",
   "metadata": {},
   "source": [
    "### for categorical data, i use pd.series.astype(\"category\")"
   ]
  },
  {
   "attachments": {},
   "cell_type": "markdown",
   "metadata": {},
   "source": [
    "df = pd.DataFrame({\"A\": list(\"abca\"), \"B\": list(\"bccd\")})\n",
    "convert just columns \"a\" and \"b\"\n",
    "df[[\"a\", \"b\"]] = df[[\"a\", \"b\"]].apply(pd.to_numeric)"
   ]
  },
  {
   "cell_type": "markdown",
   "metadata": {},
   "source": [
    "### for numerical data, i use stdscaler"
   ]
  },
  {
   "cell_type": "code",
   "execution_count": 4,
   "metadata": {},
   "outputs": [],
   "source": [
    "from sklearn.preprocessing import StandardScaler"
   ]
  },
  {
   "cell_type": "markdown",
   "metadata": {},
   "source": [
    "## load dataset"
   ]
  },
  {
   "cell_type": "code",
   "execution_count": 2,
   "metadata": {},
   "outputs": [],
   "source": [
    "path = \"D:/202209/tbrain/訓練資料集_first/\"\n",
    "import os\n",
    "os.chdir(path)\n",
    "# import glob\n",
    "# print(glob.glob(os.path.join(path, \"*.csv\")))\n",
    "## 備註\n",
    "## 這邊利用 os.path.join 來連接指定字串形成路徑，因為不同系統下的分隔符號可能不同"
   ]
  },
  {
   "cell_type": "code",
   "execution_count": 1,
   "metadata": {},
   "outputs": [],
   "source": [
    "import pandas as pd"
   ]
  },
  {
   "cell_type": "code",
   "execution_count": 72,
   "metadata": {},
   "outputs": [],
   "source": [
    "ccba = pd.read_csv(\"public_train_x_ccba_full_hashed.csv\")\n",
    "cdtx = pd.read_csv(\"public_train_x_cdtx0001_full_hashed.csv\")\n",
    "custinfo = pd.read_csv(\"public_train_x_custinfo_full_hashed.csv\")\n",
    "dp = pd.read_csv(\"public_train_x_dp_full_hashed.csv\")\n",
    "remit = pd.read_csv(\"public_train_x_remit1_full_hashed.csv\")\n",
    "alert_public = pd.read_csv(\"public_x_alert_date.csv\")\n",
    "alert_train = pd.read_csv(\"train_x_alert_date.csv\")\n",
    "y = pd.read_csv(\"train_y_answer.csv\")"
   ]
  },
  {
   "cell_type": "markdown",
   "metadata": {},
   "source": [
    "## prepare sub-dataset"
   ]
  },
  {
   "cell_type": "code",
   "execution_count": 13,
   "metadata": {},
   "outputs": [],
   "source": [
    "import numpy as np"
   ]
  },
  {
   "cell_type": "code",
   "execution_count": 76,
   "metadata": {},
   "outputs": [],
   "source": [
    "imp_occu = SimpleImputer(strategy='constant', fill_value=40)\n",
    "custinfo[['occupation_code']] = imp_occu.fit_transform(custinfo[['occupation_code']])"
   ]
  },
  {
   "cell_type": "code",
   "execution_count": 77,
   "metadata": {},
   "outputs": [],
   "source": [
    "imp_fisc = SimpleImputer(strategy='constant', fill_value=30)\n",
    "dp[['fiscTxId']] = imp_occu.fit_transform(dp[['fiscTxId']])"
   ]
  },
  {
   "cell_type": "code",
   "execution_count": 78,
   "metadata": {},
   "outputs": [],
   "source": [
    "imp_branch = SimpleImputer(strategy='constant', fill_value=400)\n",
    "dp[['txbranch']] = imp_occu.fit_transform(dp[['txbranch']])"
   ]
  },
  {
   "attachments": {},
   "cell_type": "markdown",
   "metadata": {},
   "source": [
    "### transfer the categorical datas into pd.Categorical"
   ]
  },
  {
   "cell_type": "code",
   "execution_count": 80,
   "metadata": {},
   "outputs": [],
   "source": [
    "ccba['cust_id'] = pd.Categorical(ccba['cust_id'],  categories = list(ccba['cust_id'].unique()))\n",
    "cdtx['cust_id'] = pd.Categorical(cdtx['cust_id'],  categories = list(cdtx['cust_id'].unique()))\n",
    "custinfo['cust_id'] = pd.Categorical(custinfo['cust_id'],  categories = list(custinfo['cust_id'].unique()))\n",
    "dp['cust_id'] = pd.Categorical(dp['cust_id'],  categories = list(dp['cust_id'].unique()))\n",
    "remit['cust_id'] = pd.Categorical(remit['cust_id'],  categories = list(remit['cust_id'].unique()))"
   ]
  },
  {
   "cell_type": "code",
   "execution_count": 79,
   "metadata": {},
   "outputs": [],
   "source": [
    "ccba['byymm'] = pd.Categorical(ccba['byymm'],  categories = list(ccba['byymm'].unique()), ordered=True)\n",
    "\n",
    "cdtx['date'] = pd.Categorical(cdtx['date'],  categories = list(cdtx['date'].unique()), ordered=True)\n",
    "cdtx['country'] = pd.Categorical(cdtx['country'],  categories = list(cdtx['country'].unique()))\n",
    "cdtx['cur_type'] = pd.Categorical(cdtx['cur_type'],  categories = list(cdtx['cur_type'].unique()))\n",
    "\n",
    "custinfo['risk_rank'] = pd.Categorical(custinfo['risk_rank'], categories = list(custinfo['risk_rank'].unique()), ordered=True)\n",
    "custinfo['AGE'] = pd.Categorical(custinfo['AGE'], categories = list(custinfo['AGE'].unique()), ordered=True)\n",
    "custinfo['occupation_code'] = pd.Categorical(custinfo['occupation_code'], categories = list(custinfo['occupation_code'].unique()))\n",
    "\n",
    "dp['tx_date'] = pd.Categorical(dp['tx_date'], categories = list(dp['tx_date'].unique()), ordered=True)\n",
    "dp['tx_time'] = pd.Categorical(dp['tx_time'], categories = list(dp['tx_time'].unique()), ordered=True)\n",
    "dp['debit_credit'] = pd.Categorical(dp['debit_credit'], categories = list(dp['debit_credit'].unique()))\n",
    "dp['tx_type'] = pd.Categorical(dp['tx_type'], categories = list(dp['tx_type'].unique()))\n",
    "dp['info_asset_code'] = pd.Categorical(dp['info_asset_code'], categories = list(dp['info_asset_code'].unique()))\n",
    "dp['fiscTxId'] = pd.Categorical(dp['fiscTxId'], categories = list(dp['fiscTxId'].unique()))\n",
    "dp['txbranch'] = pd.Categorical(dp['txbranch'], categories = list(dp['txbranch'].unique()))\n",
    "dp['cross_bank'] = pd.Categorical(dp['cross_bank'], categories = list(dp['cross_bank'].unique()))\n",
    "dp['ATM'] = pd.Categorical(dp['ATM'], categories = list(dp['ATM'].unique()))\n",
    "\n",
    "remit['trans_date'] = pd.Categorical(remit['trans_date'], categories = list(remit['trans_date'].unique()), ordered=True)\n",
    "remit['trans_no'] = pd.Categorical(remit['trans_no'], categories = list(remit['trans_no'].unique()))"
   ]
  },
  {
   "cell_type": "markdown",
   "metadata": {},
   "source": [
    "## prepare dp"
   ]
  },
  {
   "cell_type": "code",
   "execution_count": 81,
   "metadata": {},
   "outputs": [],
   "source": [
    "imputer_branch = SimpleImputer(strategy='median')\n",
    "\n",
    "dp[\"tx_amt\"] = imputer_branch.fit_transform(dp[[\"tx_amt\"]])"
   ]
  },
  {
   "cell_type": "code",
   "execution_count": 82,
   "metadata": {},
   "outputs": [
    {
     "data": {
      "text/html": [
       "<div>\n",
       "<style scoped>\n",
       "    .dataframe tbody tr th:only-of-type {\n",
       "        vertical-align: middle;\n",
       "    }\n",
       "\n",
       "    .dataframe tbody tr th {\n",
       "        vertical-align: top;\n",
       "    }\n",
       "\n",
       "    .dataframe thead th {\n",
       "        text-align: right;\n",
       "    }\n",
       "</style>\n",
       "<table border=\"1\" class=\"dataframe\">\n",
       "  <thead>\n",
       "    <tr style=\"text-align: right;\">\n",
       "      <th></th>\n",
       "      <th>cust_id</th>\n",
       "      <th>debit_credit</th>\n",
       "      <th>tx_date</th>\n",
       "      <th>tx_time</th>\n",
       "      <th>tx_type</th>\n",
       "      <th>tx_amt</th>\n",
       "      <th>exchg_rate</th>\n",
       "      <th>info_asset_code</th>\n",
       "      <th>fiscTxId</th>\n",
       "      <th>txbranch</th>\n",
       "      <th>cross_bank</th>\n",
       "      <th>ATM</th>\n",
       "      <th>NTD</th>\n",
       "      <th>isNTD</th>\n",
       "    </tr>\n",
       "  </thead>\n",
       "  <tbody>\n",
       "    <tr>\n",
       "      <th>199</th>\n",
       "      <td>01b1735c3dbf0a35c1c989bb45434ce4326b365b73db06...</td>\n",
       "      <td>CR</td>\n",
       "      <td>230</td>\n",
       "      <td>14</td>\n",
       "      <td>2</td>\n",
       "      <td>3715.0</td>\n",
       "      <td>27.83</td>\n",
       "      <td>20</td>\n",
       "      <td>40.0</td>\n",
       "      <td>40.0</td>\n",
       "      <td>0</td>\n",
       "      <td>1</td>\n",
       "      <td>103388.45</td>\n",
       "      <td>0</td>\n",
       "    </tr>\n",
       "    <tr>\n",
       "      <th>200</th>\n",
       "      <td>01b1735c3dbf0a35c1c989bb45434ce4326b365b73db06...</td>\n",
       "      <td>CR</td>\n",
       "      <td>231</td>\n",
       "      <td>9</td>\n",
       "      <td>2</td>\n",
       "      <td>5029.0</td>\n",
       "      <td>27.80</td>\n",
       "      <td>20</td>\n",
       "      <td>40.0</td>\n",
       "      <td>40.0</td>\n",
       "      <td>0</td>\n",
       "      <td>1</td>\n",
       "      <td>139806.20</td>\n",
       "      <td>0</td>\n",
       "    </tr>\n",
       "    <tr>\n",
       "      <th>201</th>\n",
       "      <td>01b1735c3dbf0a35c1c989bb45434ce4326b365b73db06...</td>\n",
       "      <td>DB</td>\n",
       "      <td>231</td>\n",
       "      <td>14</td>\n",
       "      <td>2</td>\n",
       "      <td>3715.0</td>\n",
       "      <td>27.84</td>\n",
       "      <td>20</td>\n",
       "      <td>40.0</td>\n",
       "      <td>40.0</td>\n",
       "      <td>0</td>\n",
       "      <td>1</td>\n",
       "      <td>103425.60</td>\n",
       "      <td>0</td>\n",
       "    </tr>\n",
       "    <tr>\n",
       "      <th>202</th>\n",
       "      <td>01b1735c3dbf0a35c1c989bb45434ce4326b365b73db06...</td>\n",
       "      <td>DB</td>\n",
       "      <td>231</td>\n",
       "      <td>14</td>\n",
       "      <td>2</td>\n",
       "      <td>8428.0</td>\n",
       "      <td>27.84</td>\n",
       "      <td>20</td>\n",
       "      <td>40.0</td>\n",
       "      <td>40.0</td>\n",
       "      <td>0</td>\n",
       "      <td>1</td>\n",
       "      <td>234635.52</td>\n",
       "      <td>0</td>\n",
       "    </tr>\n",
       "    <tr>\n",
       "      <th>205</th>\n",
       "      <td>01b1735c3dbf0a35c1c989bb45434ce4326b365b73db06...</td>\n",
       "      <td>DB</td>\n",
       "      <td>291</td>\n",
       "      <td>11</td>\n",
       "      <td>2</td>\n",
       "      <td>2064.0</td>\n",
       "      <td>27.63</td>\n",
       "      <td>20</td>\n",
       "      <td>40.0</td>\n",
       "      <td>40.0</td>\n",
       "      <td>0</td>\n",
       "      <td>1</td>\n",
       "      <td>57028.32</td>\n",
       "      <td>0</td>\n",
       "    </tr>\n",
       "  </tbody>\n",
       "</table>\n",
       "</div>"
      ],
      "text/plain": [
       "                                               cust_id debit_credit tx_date  \\\n",
       "199  01b1735c3dbf0a35c1c989bb45434ce4326b365b73db06...           CR     230   \n",
       "200  01b1735c3dbf0a35c1c989bb45434ce4326b365b73db06...           CR     231   \n",
       "201  01b1735c3dbf0a35c1c989bb45434ce4326b365b73db06...           DB     231   \n",
       "202  01b1735c3dbf0a35c1c989bb45434ce4326b365b73db06...           DB     231   \n",
       "205  01b1735c3dbf0a35c1c989bb45434ce4326b365b73db06...           DB     291   \n",
       "\n",
       "    tx_time tx_type  tx_amt  exchg_rate info_asset_code fiscTxId txbranch  \\\n",
       "199      14       2  3715.0       27.83              20     40.0     40.0   \n",
       "200       9       2  5029.0       27.80              20     40.0     40.0   \n",
       "201      14       2  3715.0       27.84              20     40.0     40.0   \n",
       "202      14       2  8428.0       27.84              20     40.0     40.0   \n",
       "205      11       2  2064.0       27.63              20     40.0     40.0   \n",
       "\n",
       "    cross_bank ATM        NTD  isNTD  \n",
       "199          0   1  103388.45      0  \n",
       "200          0   1  139806.20      0  \n",
       "201          0   1  103425.60      0  \n",
       "202          0   1  234635.52      0  \n",
       "205          0   1   57028.32      0  "
      ]
     },
     "execution_count": 82,
     "metadata": {},
     "output_type": "execute_result"
    }
   ],
   "source": [
    "# calculate into NTD\n",
    "dp['NTD'] = dp['tx_amt']*dp['exchg_rate'].round(2)\n",
    "\n",
    "# is it originally used NTD?\n",
    "dp['isNTD'] = dp.loc[dp[\"exchg_rate\"] == 1.0, \"isNTD\"] = 1\n",
    "dp['isNTD'] = dp.loc[dp[\"exchg_rate\"] != 1.0, \"isNTD\"] = 0\n",
    "\n",
    "dp[dp['exchg_rate']!=1.0].head()"
   ]
  },
  {
   "cell_type": "code",
   "execution_count": 25,
   "metadata": {},
   "outputs": [],
   "source": [
    "# booooom\n",
    "# from sklearn.impute import KNNImputer\n",
    "\n",
    "# imputer = KNNImputer(n_neighbors=2, weights=\"uniform\")\n",
    "\n",
    "# dp[\"tx_amt\"] = imputer.fit_transform(dp[[\"tx_amt\"]]).ravel()\n"
   ]
  },
  {
   "cell_type": "markdown",
   "metadata": {},
   "source": [
    "## standardize"
   ]
  },
  {
   "cell_type": "code",
   "execution_count": 83,
   "metadata": {},
   "outputs": [],
   "source": [
    "standardizer = StandardScaler()\n",
    "\n",
    "ccba[['lupay', 'cycam', 'usgam', 'clamt', 'csamt', 'inamt', 'cucsm', 'cucah']] = standardizer.fit_transform(ccba[['lupay', 'cycam', 'usgam', 'clamt', 'csamt', 'inamt', 'cucsm', 'cucah']])\n",
    "\n",
    "cdtx[['amt']] = standardizer.fit_transform(cdtx[['amt']])\n",
    "\n",
    "dp[['NTD']]  = standardizer.fit_transform(dp[['NTD']])\n",
    "\n",
    "remit[['trade_amount_usd']] = standardizer.fit_transform(remit[['trade_amount_usd']])\n"
   ]
  },
  {
   "cell_type": "markdown",
   "metadata": {},
   "source": [
    "## Prepare training/testing target"
   ]
  },
  {
   "cell_type": "code",
   "execution_count": 111,
   "metadata": {},
   "outputs": [
    {
     "name": "stdout",
     "output_type": "stream",
     "text": [
      "(23906, 3)\n"
     ]
    },
    {
     "data": {
      "text/html": [
       "<div>\n",
       "<style scoped>\n",
       "    .dataframe tbody tr th:only-of-type {\n",
       "        vertical-align: middle;\n",
       "    }\n",
       "\n",
       "    .dataframe tbody tr th {\n",
       "        vertical-align: top;\n",
       "    }\n",
       "\n",
       "    .dataframe thead th {\n",
       "        text-align: right;\n",
       "    }\n",
       "</style>\n",
       "<table border=\"1\" class=\"dataframe\">\n",
       "  <thead>\n",
       "    <tr style=\"text-align: right;\">\n",
       "      <th></th>\n",
       "      <th>sar_flag</th>\n",
       "      <th>alert_key</th>\n",
       "      <th>cust_id</th>\n",
       "    </tr>\n",
       "  </thead>\n",
       "  <tbody>\n",
       "    <tr>\n",
       "      <th>0</th>\n",
       "      <td>0</td>\n",
       "      <td>171189</td>\n",
       "      <td>972ee157e63316e8a50dd489bc93730a3ee8a8959d5c6b...</td>\n",
       "    </tr>\n",
       "    <tr>\n",
       "      <th>1</th>\n",
       "      <td>0</td>\n",
       "      <td>171202</td>\n",
       "      <td>a10ab33f90926fb18d7bb5e78034d7f04a1fbed95b7951...</td>\n",
       "    </tr>\n",
       "    <tr>\n",
       "      <th>2</th>\n",
       "      <td>0</td>\n",
       "      <td>171599</td>\n",
       "      <td>3433ecc068ed1c9e2f5037cab5d42d7b901e9bd624c1fb...</td>\n",
       "    </tr>\n",
       "    <tr>\n",
       "      <th>3</th>\n",
       "      <td>0</td>\n",
       "      <td>171737</td>\n",
       "      <td>a0861608615a9365d90f4ba0a813c0ea0471987f925c8b...</td>\n",
       "    </tr>\n",
       "    <tr>\n",
       "      <th>4</th>\n",
       "      <td>0</td>\n",
       "      <td>171142</td>\n",
       "      <td>a39fea9aec90969fe66a2b2b4d1b86368a2d38e8b8d4bf...</td>\n",
       "    </tr>\n",
       "  </tbody>\n",
       "</table>\n",
       "</div>"
      ],
      "text/plain": [
       "   sar_flag  alert_key                                            cust_id\n",
       "0         0     171189  972ee157e63316e8a50dd489bc93730a3ee8a8959d5c6b...\n",
       "1         0     171202  a10ab33f90926fb18d7bb5e78034d7f04a1fbed95b7951...\n",
       "2         0     171599  3433ecc068ed1c9e2f5037cab5d42d7b901e9bd624c1fb...\n",
       "3         0     171737  a0861608615a9365d90f4ba0a813c0ea0471987f925c8b...\n",
       "4         0     171142  a39fea9aec90969fe66a2b2b4d1b86368a2d38e8b8d4bf..."
      ]
     },
     "execution_count": 111,
     "metadata": {},
     "output_type": "execute_result"
    }
   ],
   "source": [
    "y_train = y.join(alert_train.set_index('alert_key'), on='alert_key')\n",
    "y_train = y_train.join(custinfo[['alert_key', 'cust_id']].set_index('alert_key'), on='alert_key', how='inner')\n",
    "y_train = y_train[['sar_flag', 'alert_key','cust_id']]\n",
    "print(y_train.shape)\n",
    "y_train.head()"
   ]
  },
  {
   "cell_type": "code",
   "execution_count": null,
   "metadata": {},
   "outputs": [
    {
     "data": {
      "text/html": [
       "<div>\n",
       "<style scoped>\n",
       "    .dataframe tbody tr th:only-of-type {\n",
       "        vertical-align: middle;\n",
       "    }\n",
       "\n",
       "    .dataframe tbody tr th {\n",
       "        vertical-align: top;\n",
       "    }\n",
       "\n",
       "    .dataframe thead th {\n",
       "        text-align: right;\n",
       "    }\n",
       "</style>\n",
       "<table border=\"1\" class=\"dataframe\">\n",
       "  <thead>\n",
       "    <tr style=\"text-align: right;\">\n",
       "      <th></th>\n",
       "      <th>alert_key</th>\n",
       "      <th>date</th>\n",
       "      <th>cust_id</th>\n",
       "      <th>risk_rank</th>\n",
       "      <th>occupation_code</th>\n",
       "      <th>total_asset</th>\n",
       "      <th>AGE</th>\n",
       "    </tr>\n",
       "  </thead>\n",
       "  <tbody>\n",
       "    <tr>\n",
       "      <th>23900</th>\n",
       "      <td>351871</td>\n",
       "      <td>364</td>\n",
       "      <td>7b87ff62b8c40d8be12f571e2243cffadcb2501a57b8c8...</td>\n",
       "      <td>1</td>\n",
       "      <td>17.0</td>\n",
       "      <td>39100.0</td>\n",
       "      <td>2</td>\n",
       "    </tr>\n",
       "    <tr>\n",
       "      <th>23901</th>\n",
       "      <td>352132</td>\n",
       "      <td>364</td>\n",
       "      <td>c49b33d1fde790ec03584672903f296e486615adfdc989...</td>\n",
       "      <td>1</td>\n",
       "      <td>19.0</td>\n",
       "      <td>3218731.0</td>\n",
       "      <td>3</td>\n",
       "    </tr>\n",
       "    <tr>\n",
       "      <th>23902</th>\n",
       "      <td>352125</td>\n",
       "      <td>364</td>\n",
       "      <td>0c2dc5fedc3689abf5ff4be14fe8fea8d23d22068297c2...</td>\n",
       "      <td>3</td>\n",
       "      <td>19.0</td>\n",
       "      <td>928963.0</td>\n",
       "      <td>3</td>\n",
       "    </tr>\n",
       "    <tr>\n",
       "      <th>23903</th>\n",
       "      <td>352080</td>\n",
       "      <td>364</td>\n",
       "      <td>1a93961c8fa830a1f32f5316b44f4964d65397f0311b11...</td>\n",
       "      <td>2</td>\n",
       "      <td>9.0</td>\n",
       "      <td>69080.0</td>\n",
       "      <td>6</td>\n",
       "    </tr>\n",
       "    <tr>\n",
       "      <th>23904</th>\n",
       "      <td>352075</td>\n",
       "      <td>364</td>\n",
       "      <td>9586b80d3ad1d74c0a1efe792cae2ecd073243fb01ed33...</td>\n",
       "      <td>3</td>\n",
       "      <td>3.0</td>\n",
       "      <td>262604.0</td>\n",
       "      <td>6</td>\n",
       "    </tr>\n",
       "    <tr>\n",
       "      <th>23905</th>\n",
       "      <td>351927</td>\n",
       "      <td>364</td>\n",
       "      <td>7dc5256ef411c745dc3064da2f231c104ca270f564d3d0...</td>\n",
       "      <td>1</td>\n",
       "      <td>9.0</td>\n",
       "      <td>332834.0</td>\n",
       "      <td>2</td>\n",
       "    </tr>\n",
       "    <tr>\n",
       "      <th>0</th>\n",
       "      <td>352342</td>\n",
       "      <td>365</td>\n",
       "      <td>7629f010080267f680a4ca9c6cac71c4d4d86933dcc7ed...</td>\n",
       "      <td>1</td>\n",
       "      <td>17.0</td>\n",
       "      <td>506366.0</td>\n",
       "      <td>3</td>\n",
       "    </tr>\n",
       "    <tr>\n",
       "      <th>1</th>\n",
       "      <td>352866</td>\n",
       "      <td>365</td>\n",
       "      <td>e50deb3f2f87bf45e04940303f80c96929c836b0b03f54...</td>\n",
       "      <td>1</td>\n",
       "      <td>12.0</td>\n",
       "      <td>309830.0</td>\n",
       "      <td>4</td>\n",
       "    </tr>\n",
       "    <tr>\n",
       "      <th>2</th>\n",
       "      <td>352696</td>\n",
       "      <td>365</td>\n",
       "      <td>c6def618ad861703c025be4f41bdf7569310228ae93aef...</td>\n",
       "      <td>1</td>\n",
       "      <td>2.0</td>\n",
       "      <td>444392.0</td>\n",
       "      <td>3</td>\n",
       "    </tr>\n",
       "    <tr>\n",
       "      <th>3</th>\n",
       "      <td>352330</td>\n",
       "      <td>365</td>\n",
       "      <td>96d70b798f211393cfbcb83a8acd19f3e8c9c5c205960a...</td>\n",
       "      <td>1</td>\n",
       "      <td>19.0</td>\n",
       "      <td>143930.0</td>\n",
       "      <td>4</td>\n",
       "    </tr>\n",
       "  </tbody>\n",
       "</table>\n",
       "</div>"
      ],
      "text/plain": [
       "       alert_key  date                                            cust_id  \\\n",
       "23900     351871   364  7b87ff62b8c40d8be12f571e2243cffadcb2501a57b8c8...   \n",
       "23901     352132   364  c49b33d1fde790ec03584672903f296e486615adfdc989...   \n",
       "23902     352125   364  0c2dc5fedc3689abf5ff4be14fe8fea8d23d22068297c2...   \n",
       "23903     352080   364  1a93961c8fa830a1f32f5316b44f4964d65397f0311b11...   \n",
       "23904     352075   364  9586b80d3ad1d74c0a1efe792cae2ecd073243fb01ed33...   \n",
       "23905     351927   364  7dc5256ef411c745dc3064da2f231c104ca270f564d3d0...   \n",
       "0         352342   365  7629f010080267f680a4ca9c6cac71c4d4d86933dcc7ed...   \n",
       "1         352866   365  e50deb3f2f87bf45e04940303f80c96929c836b0b03f54...   \n",
       "2         352696   365  c6def618ad861703c025be4f41bdf7569310228ae93aef...   \n",
       "3         352330   365  96d70b798f211393cfbcb83a8acd19f3e8c9c5c205960a...   \n",
       "\n",
       "       risk_rank  occupation_code  total_asset  AGE  \n",
       "23900          1             17.0      39100.0    2  \n",
       "23901          1             19.0    3218731.0    3  \n",
       "23902          3             19.0     928963.0    3  \n",
       "23903          2              9.0      69080.0    6  \n",
       "23904          3              3.0     262604.0    6  \n",
       "23905          1              9.0     332834.0    2  \n",
       "0              1             17.0     506366.0    3  \n",
       "1              1             12.0     309830.0    4  \n",
       "2              1              2.0     444392.0    3  \n",
       "3              1             19.0     143930.0    4  "
      ]
     },
     "metadata": {},
     "output_type": "display_data"
    }
   ],
   "source": [
    "#alert_join = pd.concat([alert_train, alert_public],axis=0)\n",
    "#alert_join = alert_join.join(custinfo.set_index('alert_key'), on='alert_key')\n",
    "#alert_join.iloc[23900:23910]"
   ]
  },
  {
   "cell_type": "code",
   "execution_count": 112,
   "metadata": {},
   "outputs": [
    {
     "data": {
      "text/html": [
       "<div>\n",
       "<style scoped>\n",
       "    .dataframe tbody tr th:only-of-type {\n",
       "        vertical-align: middle;\n",
       "    }\n",
       "\n",
       "    .dataframe tbody tr th {\n",
       "        vertical-align: top;\n",
       "    }\n",
       "\n",
       "    .dataframe thead th {\n",
       "        text-align: right;\n",
       "    }\n",
       "</style>\n",
       "<table border=\"1\" class=\"dataframe\">\n",
       "  <thead>\n",
       "    <tr style=\"text-align: right;\">\n",
       "      <th></th>\n",
       "      <th>sar_flag</th>\n",
       "      <th>alert_key</th>\n",
       "      <th>cust_id</th>\n",
       "    </tr>\n",
       "  </thead>\n",
       "  <tbody>\n",
       "    <tr>\n",
       "      <th>0</th>\n",
       "      <td></td>\n",
       "      <td>352342</td>\n",
       "      <td>7629f010080267f680a4ca9c6cac71c4d4d86933dcc7ed...</td>\n",
       "    </tr>\n",
       "    <tr>\n",
       "      <th>1</th>\n",
       "      <td></td>\n",
       "      <td>352866</td>\n",
       "      <td>e50deb3f2f87bf45e04940303f80c96929c836b0b03f54...</td>\n",
       "    </tr>\n",
       "    <tr>\n",
       "      <th>2</th>\n",
       "      <td></td>\n",
       "      <td>352696</td>\n",
       "      <td>c6def618ad861703c025be4f41bdf7569310228ae93aef...</td>\n",
       "    </tr>\n",
       "    <tr>\n",
       "      <th>3</th>\n",
       "      <td></td>\n",
       "      <td>352330</td>\n",
       "      <td>96d70b798f211393cfbcb83a8acd19f3e8c9c5c205960a...</td>\n",
       "    </tr>\n",
       "    <tr>\n",
       "      <th>4</th>\n",
       "      <td></td>\n",
       "      <td>352683</td>\n",
       "      <td>40fa92acb89d1ebb319f0f200d31a5fcbdfcbd8ad432d7...</td>\n",
       "    </tr>\n",
       "  </tbody>\n",
       "</table>\n",
       "</div>"
      ],
      "text/plain": [
       "  sar_flag  alert_key                                            cust_id\n",
       "0              352342  7629f010080267f680a4ca9c6cac71c4d4d86933dcc7ed...\n",
       "1              352866  e50deb3f2f87bf45e04940303f80c96929c836b0b03f54...\n",
       "2              352696  c6def618ad861703c025be4f41bdf7569310228ae93aef...\n",
       "3              352330  96d70b798f211393cfbcb83a8acd19f3e8c9c5c205960a...\n",
       "4              352683  40fa92acb89d1ebb319f0f200d31a5fcbdfcbd8ad432d7..."
      ]
     },
     "execution_count": 112,
     "metadata": {},
     "output_type": "execute_result"
    }
   ],
   "source": [
    "y_test = alert_public\n",
    "y_test = y_test.join(custinfo[['alert_key', 'cust_id']].set_index('alert_key'), on='alert_key', how='inner')\n",
    "y_test['sar_flag'] = \"\"\n",
    "y_test = y_test[['sar_flag', 'alert_key','cust_id']]\n",
    "y_test.head()"
   ]
  },
  {
   "attachments": {},
   "cell_type": "markdown",
   "metadata": {},
   "source": [
    "# bcuz sar is imbalance, i use `imblearn`"
   ]
  },
  {
   "cell_type": "code",
   "execution_count": 114,
   "metadata": {},
   "outputs": [
    {
     "data": {
      "text/html": [
       "<div>\n",
       "<style scoped>\n",
       "    .dataframe tbody tr th:only-of-type {\n",
       "        vertical-align: middle;\n",
       "    }\n",
       "\n",
       "    .dataframe tbody tr th {\n",
       "        vertical-align: top;\n",
       "    }\n",
       "\n",
       "    .dataframe thead th {\n",
       "        text-align: right;\n",
       "    }\n",
       "</style>\n",
       "<table border=\"1\" class=\"dataframe\">\n",
       "  <thead>\n",
       "    <tr style=\"text-align: right;\">\n",
       "      <th></th>\n",
       "      <th>sar_flag</th>\n",
       "      <th>alert_key</th>\n",
       "      <th>cust_id</th>\n",
       "      <th>debit_credit</th>\n",
       "      <th>tx_date</th>\n",
       "      <th>tx_time</th>\n",
       "      <th>tx_type</th>\n",
       "      <th>tx_amt</th>\n",
       "      <th>exchg_rate</th>\n",
       "      <th>info_asset_code</th>\n",
       "      <th>fiscTxId</th>\n",
       "      <th>txbranch</th>\n",
       "      <th>cross_bank</th>\n",
       "      <th>ATM</th>\n",
       "      <th>NTD</th>\n",
       "      <th>isNTD</th>\n",
       "    </tr>\n",
       "  </thead>\n",
       "  <tbody>\n",
       "    <tr>\n",
       "      <th>0</th>\n",
       "      <td>0</td>\n",
       "      <td>171189</td>\n",
       "      <td>972ee157e63316e8a50dd489bc93730a3ee8a8959d5c6b...</td>\n",
       "      <td>CR</td>\n",
       "      <td>282</td>\n",
       "      <td>12</td>\n",
       "      <td>2</td>\n",
       "      <td>26198.0</td>\n",
       "      <td>27.740</td>\n",
       "      <td>20</td>\n",
       "      <td>40.0</td>\n",
       "      <td>40.0</td>\n",
       "      <td>0</td>\n",
       "      <td>1</td>\n",
       "      <td>0.017923</td>\n",
       "      <td>0.0</td>\n",
       "    </tr>\n",
       "    <tr>\n",
       "      <th>0</th>\n",
       "      <td>0</td>\n",
       "      <td>171189</td>\n",
       "      <td>972ee157e63316e8a50dd489bc93730a3ee8a8959d5c6b...</td>\n",
       "      <td>CR</td>\n",
       "      <td>264</td>\n",
       "      <td>0</td>\n",
       "      <td>2</td>\n",
       "      <td>52372.0</td>\n",
       "      <td>1.000</td>\n",
       "      <td>16</td>\n",
       "      <td>40.0</td>\n",
       "      <td>40.0</td>\n",
       "      <td>0</td>\n",
       "      <td>0</td>\n",
       "      <td>-0.033177</td>\n",
       "      <td>0.0</td>\n",
       "    </tr>\n",
       "    <tr>\n",
       "      <th>0</th>\n",
       "      <td>0</td>\n",
       "      <td>171189</td>\n",
       "      <td>972ee157e63316e8a50dd489bc93730a3ee8a8959d5c6b...</td>\n",
       "      <td>CR</td>\n",
       "      <td>32</td>\n",
       "      <td>19</td>\n",
       "      <td>2</td>\n",
       "      <td>46411.0</td>\n",
       "      <td>27.955</td>\n",
       "      <td>20</td>\n",
       "      <td>40.0</td>\n",
       "      <td>40.0</td>\n",
       "      <td>0</td>\n",
       "      <td>1</td>\n",
       "      <td>0.061185</td>\n",
       "      <td>0.0</td>\n",
       "    </tr>\n",
       "    <tr>\n",
       "      <th>0</th>\n",
       "      <td>0</td>\n",
       "      <td>171189</td>\n",
       "      <td>972ee157e63316e8a50dd489bc93730a3ee8a8959d5c6b...</td>\n",
       "      <td>CR</td>\n",
       "      <td>151</td>\n",
       "      <td>15</td>\n",
       "      <td>2</td>\n",
       "      <td>460812.0</td>\n",
       "      <td>27.795</td>\n",
       "      <td>20</td>\n",
       "      <td>40.0</td>\n",
       "      <td>40.0</td>\n",
       "      <td>0</td>\n",
       "      <td>1</td>\n",
       "      <td>0.933588</td>\n",
       "      <td>0.0</td>\n",
       "    </tr>\n",
       "    <tr>\n",
       "      <th>0</th>\n",
       "      <td>0</td>\n",
       "      <td>171189</td>\n",
       "      <td>972ee157e63316e8a50dd489bc93730a3ee8a8959d5c6b...</td>\n",
       "      <td>CR</td>\n",
       "      <td>39</td>\n",
       "      <td>9</td>\n",
       "      <td>2</td>\n",
       "      <td>52379.0</td>\n",
       "      <td>27.765</td>\n",
       "      <td>20</td>\n",
       "      <td>40.0</td>\n",
       "      <td>40.0</td>\n",
       "      <td>0</td>\n",
       "      <td>1</td>\n",
       "      <td>0.073036</td>\n",
       "      <td>0.0</td>\n",
       "    </tr>\n",
       "  </tbody>\n",
       "</table>\n",
       "</div>"
      ],
      "text/plain": [
       "   sar_flag  alert_key                                            cust_id  \\\n",
       "0         0     171189  972ee157e63316e8a50dd489bc93730a3ee8a8959d5c6b...   \n",
       "0         0     171189  972ee157e63316e8a50dd489bc93730a3ee8a8959d5c6b...   \n",
       "0         0     171189  972ee157e63316e8a50dd489bc93730a3ee8a8959d5c6b...   \n",
       "0         0     171189  972ee157e63316e8a50dd489bc93730a3ee8a8959d5c6b...   \n",
       "0         0     171189  972ee157e63316e8a50dd489bc93730a3ee8a8959d5c6b...   \n",
       "\n",
       "  debit_credit tx_date tx_time tx_type    tx_amt  exchg_rate info_asset_code  \\\n",
       "0           CR     282      12       2   26198.0      27.740              20   \n",
       "0           CR     264       0       2   52372.0       1.000              16   \n",
       "0           CR      32      19       2   46411.0      27.955              20   \n",
       "0           CR     151      15       2  460812.0      27.795              20   \n",
       "0           CR      39       9       2   52379.0      27.765              20   \n",
       "\n",
       "  fiscTxId txbranch cross_bank ATM       NTD  isNTD  \n",
       "0     40.0     40.0          0   1  0.017923    0.0  \n",
       "0     40.0     40.0          0   0 -0.033177    0.0  \n",
       "0     40.0     40.0          0   1  0.061185    0.0  \n",
       "0     40.0     40.0          0   1  0.933588    0.0  \n",
       "0     40.0     40.0          0   1  0.073036    0.0  "
      ]
     },
     "execution_count": 114,
     "metadata": {},
     "output_type": "execute_result"
    }
   ],
   "source": [
    "train_dp = y_train.join(dp.set_index('cust_id'), on='cust_id')\n",
    "train_dp.head()"
   ]
  },
  {
   "cell_type": "code",
   "execution_count": null,
   "metadata": {},
   "outputs": [],
   "source": [
    "# import library\n",
    "from imblearn.under_sampling import RandomUnderSampler\n",
    "\n",
    "rus = RandomUnderSampler(random_state=42, replacement=True)# fit predictor and target variable\n",
    "x_rus, y_rus = rus.fit_resample( train_dp.loc[:, train_dp.columns != 'sar_flag'], train_dp['sar_flag'])\n",
    "\n",
    "print('original dataset shape:', Counter(y_train['sar_flag']))\n",
    "print('Resample dataset shape', Counter(y_rus))"
   ]
  },
  {
   "attachments": {},
   "cell_type": "markdown",
   "metadata": {},
   "source": [
    "# Bayes"
   ]
  },
  {
   "cell_type": "code",
   "execution_count": null,
   "metadata": {},
   "outputs": [],
   "source": [
    "from sklearn.naive_bayes import GaussianNB"
   ]
  },
  {
   "cell_type": "code",
   "execution_count": null,
   "metadata": {},
   "outputs": [],
   "source": [
    "\n",
    "modelg=GaussianNB()\n",
    "modelg.fit(X_train,y_train)\n",
    "modelg.predict(X_test)"
   ]
  }
 ],
 "metadata": {
  "kernelspec": {
   "display_name": "Python 3.10.4 ('dmenv')",
   "language": "python",
   "name": "python3"
  },
  "language_info": {
   "codemirror_mode": {
    "name": "ipython",
    "version": 3
   },
   "file_extension": ".py",
   "mimetype": "text/x-python",
   "name": "python",
   "nbconvert_exporter": "python",
   "pygments_lexer": "ipython3",
   "version": "3.10.4 | packaged by conda-forge | (main, Mar 30 2022, 08:38:02) [MSC v.1916 64 bit (AMD64)]"
  },
  "orig_nbformat": 4,
  "vscode": {
   "interpreter": {
    "hash": "16fb4209bb1c3dc7d0ab6428882f289ed7c7e88b0f04ee5cc4926239416e1331"
   }
  }
 },
 "nbformat": 4,
 "nbformat_minor": 2
}
