{
 "cells": [
  {
   "cell_type": "markdown",
   "metadata": {},
   "source": [
    "# Data exploration & Data visualization"
   ]
  },
  {
   "cell_type": "markdown",
   "metadata": {},
   "source": [
    "## Load dataset"
   ]
  },
  {
   "cell_type": "code",
   "execution_count": 1,
   "metadata": {},
   "outputs": [
    {
     "name": "stdout",
     "output_type": "stream",
     "text": [
      "['D:/202209/tbrain/訓練資料集_first\\\\public_train_x_ccba_full_hashed.csv', 'D:/202209/tbrain/訓練資料集_first\\\\public_train_x_cdtx0001_full_hashed.csv', 'D:/202209/tbrain/訓練資料集_first\\\\public_train_x_custinfo_full_hashed.csv', 'D:/202209/tbrain/訓練資料集_first\\\\public_train_x_dp_full_hashed.csv', 'D:/202209/tbrain/訓練資料集_first\\\\public_train_x_remit1_full_hashed.csv', 'D:/202209/tbrain/訓練資料集_first\\\\public_x_alert_date.csv', 'D:/202209/tbrain/訓練資料集_first\\\\train_x_alert_date.csv', 'D:/202209/tbrain/訓練資料集_first\\\\train_y_answer.csv']\n"
     ]
    }
   ],
   "source": [
    "path = \"D:/202209/tbrain/訓練資料集_first/\"\n",
    "import os\n",
    "os.chdir(path)\n",
    "import glob\n",
    "print(glob.glob(os.path.join(path, \"*.csv\")))\n",
    "# 備註\n",
    "# 這邊利用 os.path.join 來連接指定字串形成路徑，因為不同系統下的分隔符號可能不同"
   ]
  },
  {
   "cell_type": "code",
   "execution_count": 61,
   "metadata": {},
   "outputs": [],
   "source": [
    "# from gettext import dpgettext         #??\n",
    "# from mimetypes import read_mime_types #??\n",
    "import pandas as pd\n",
    " \n",
    "#ccba = pd.read_csv(\"public_train_x_ccba_full_hashed.csv\")\n",
    "#cdtx = pd.read_csv(\"public_train_x_cdtx0001_full_hashed.csv\")\n",
    "custinfo = pd.read_csv(\"public_train_x_custinfo_full_hashed.csv\")\n",
    "dp = pd.read_csv(\"public_train_x_dp_full_hashed.csv\")\n",
    "#remit = pd.read_csv(\"public_train_x_remit1_full_hashed.csv\")\n",
    "alert_public = pd.read_csv(\"public_x_alert_date.csv\")\n",
    "alert_train = pd.read_csv(\"train_x_alert_date.csv\")\n",
    "y = pd.read_csv(\"train_y_answer.csv\")"
   ]
  },
  {
   "cell_type": "code",
   "execution_count": 5,
   "metadata": {},
   "outputs": [
    {
     "name": "stdout",
     "output_type": "stream",
     "text": [
      "ccba (59075, 10)\n",
      "cdtx (1043014, 5)\n",
      "custinfo (25751, 6)\n",
      "dp (1969818, 12)\n",
      "remit (17167, 4)\n",
      "alert_public (1845, 2)\n",
      "alert_train (23906, 2)\n",
      "y (23906, 2)\n"
     ]
    }
   ],
   "source": [
    "print('ccba', ccba.shape)\n",
    "print('cdtx', cdtx.shape)\n",
    "print('custinfo', custinfo.shape)\n",
    "print('dp', dp.shape)\n",
    "print('remit', remit.shape)\n",
    "print('alert_public', alert_public.shape)\n",
    "print('alert_train', alert_train.shape)\n",
    "print('y', y.shape)"
   ]
  },
  {
   "cell_type": "markdown",
   "metadata": {},
   "source": [
    "## Overview"
   ]
  },
  {
   "cell_type": "code",
   "execution_count": 89,
   "metadata": {},
   "outputs": [],
   "source": [
    "johndoe = '0032adaf4a8731b4d6a3fdcba32f9ebdcd336490eda155b9bc5d18de6b65f381'"
   ]
  },
  {
   "cell_type": "code",
   "execution_count": 133,
   "metadata": {},
   "outputs": [
    {
     "data": {
      "text/html": [
       "<div>\n",
       "<style scoped>\n",
       "    .dataframe tbody tr th:only-of-type {\n",
       "        vertical-align: middle;\n",
       "    }\n",
       "\n",
       "    .dataframe tbody tr th {\n",
       "        vertical-align: top;\n",
       "    }\n",
       "\n",
       "    .dataframe thead th {\n",
       "        text-align: right;\n",
       "    }\n",
       "</style>\n",
       "<table border=\"1\" class=\"dataframe\">\n",
       "  <thead>\n",
       "    <tr style=\"text-align: right;\">\n",
       "      <th></th>\n",
       "      <th>cust_id</th>\n",
       "      <th>lupay</th>\n",
       "      <th>byymm</th>\n",
       "      <th>cycam</th>\n",
       "      <th>usgam</th>\n",
       "      <th>clamt</th>\n",
       "      <th>csamt</th>\n",
       "      <th>inamt</th>\n",
       "      <th>cucsm</th>\n",
       "      <th>cucah</th>\n",
       "    </tr>\n",
       "  </thead>\n",
       "  <tbody>\n",
       "    <tr>\n",
       "      <th>6154</th>\n",
       "      <td>0032adaf4a8731b4d6a3fdcba32f9ebdcd336490eda155...</td>\n",
       "      <td>0.0</td>\n",
       "      <td>306</td>\n",
       "      <td>20238.0</td>\n",
       "      <td>1700.0</td>\n",
       "      <td>0.0</td>\n",
       "      <td>0.0</td>\n",
       "      <td>0.0</td>\n",
       "      <td>0.0</td>\n",
       "      <td>0.0</td>\n",
       "    </tr>\n",
       "    <tr>\n",
       "      <th>6155</th>\n",
       "      <td>0032adaf4a8731b4d6a3fdcba32f9ebdcd336490eda155...</td>\n",
       "      <td>0.0</td>\n",
       "      <td>334</td>\n",
       "      <td>20238.0</td>\n",
       "      <td>5266.0</td>\n",
       "      <td>0.0</td>\n",
       "      <td>0.0</td>\n",
       "      <td>0.0</td>\n",
       "      <td>5266.0</td>\n",
       "      <td>0.0</td>\n",
       "    </tr>\n",
       "    <tr>\n",
       "      <th>6156</th>\n",
       "      <td>0032adaf4a8731b4d6a3fdcba32f9ebdcd336490eda155...</td>\n",
       "      <td>5266.0</td>\n",
       "      <td>365</td>\n",
       "      <td>20238.0</td>\n",
       "      <td>0.0</td>\n",
       "      <td>0.0</td>\n",
       "      <td>0.0</td>\n",
       "      <td>0.0</td>\n",
       "      <td>0.0</td>\n",
       "      <td>0.0</td>\n",
       "    </tr>\n",
       "  </tbody>\n",
       "</table>\n",
       "</div>"
      ],
      "text/plain": [
       "                                                cust_id   lupay  byymm  \\\n",
       "6154  0032adaf4a8731b4d6a3fdcba32f9ebdcd336490eda155...     0.0    306   \n",
       "6155  0032adaf4a8731b4d6a3fdcba32f9ebdcd336490eda155...     0.0    334   \n",
       "6156  0032adaf4a8731b4d6a3fdcba32f9ebdcd336490eda155...  5266.0    365   \n",
       "\n",
       "        cycam   usgam  clamt  csamt  inamt   cucsm  cucah  \n",
       "6154  20238.0  1700.0    0.0    0.0    0.0     0.0    0.0  \n",
       "6155  20238.0  5266.0    0.0    0.0    0.0  5266.0    0.0  \n",
       "6156  20238.0     0.0    0.0    0.0    0.0     0.0    0.0  "
      ]
     },
     "execution_count": 133,
     "metadata": {},
     "output_type": "execute_result"
    }
   ],
   "source": [
    "ccba.loc[ccba['cust_id']==johndoe]"
   ]
  },
  {
   "cell_type": "code",
   "execution_count": 134,
   "metadata": {},
   "outputs": [
    {
     "data": {
      "text/html": [
       "<div>\n",
       "<style scoped>\n",
       "    .dataframe tbody tr th:only-of-type {\n",
       "        vertical-align: middle;\n",
       "    }\n",
       "\n",
       "    .dataframe tbody tr th {\n",
       "        vertical-align: top;\n",
       "    }\n",
       "\n",
       "    .dataframe thead th {\n",
       "        text-align: right;\n",
       "    }\n",
       "</style>\n",
       "<table border=\"1\" class=\"dataframe\">\n",
       "  <thead>\n",
       "    <tr style=\"text-align: right;\">\n",
       "      <th></th>\n",
       "      <th>cust_id</th>\n",
       "      <th>date</th>\n",
       "      <th>country</th>\n",
       "      <th>cur_type</th>\n",
       "      <th>amt</th>\n",
       "    </tr>\n",
       "  </thead>\n",
       "  <tbody>\n",
       "    <tr>\n",
       "      <th>121107</th>\n",
       "      <td>0032adaf4a8731b4d6a3fdcba32f9ebdcd336490eda155...</td>\n",
       "      <td>336</td>\n",
       "      <td>130</td>\n",
       "      <td>47</td>\n",
       "      <td>1700.0</td>\n",
       "    </tr>\n",
       "    <tr>\n",
       "      <th>121108</th>\n",
       "      <td>0032adaf4a8731b4d6a3fdcba32f9ebdcd336490eda155...</td>\n",
       "      <td>346</td>\n",
       "      <td>130</td>\n",
       "      <td>47</td>\n",
       "      <td>2169.0</td>\n",
       "    </tr>\n",
       "    <tr>\n",
       "      <th>121109</th>\n",
       "      <td>0032adaf4a8731b4d6a3fdcba32f9ebdcd336490eda155...</td>\n",
       "      <td>348</td>\n",
       "      <td>130</td>\n",
       "      <td>47</td>\n",
       "      <td>2408.0</td>\n",
       "    </tr>\n",
       "  </tbody>\n",
       "</table>\n",
       "</div>"
      ],
      "text/plain": [
       "                                                  cust_id  date  country  \\\n",
       "121107  0032adaf4a8731b4d6a3fdcba32f9ebdcd336490eda155...   336      130   \n",
       "121108  0032adaf4a8731b4d6a3fdcba32f9ebdcd336490eda155...   346      130   \n",
       "121109  0032adaf4a8731b4d6a3fdcba32f9ebdcd336490eda155...   348      130   \n",
       "\n",
       "        cur_type     amt  \n",
       "121107        47  1700.0  \n",
       "121108        47  2169.0  \n",
       "121109        47  2408.0  "
      ]
     },
     "execution_count": 134,
     "metadata": {},
     "output_type": "execute_result"
    }
   ],
   "source": [
    "cdtx.loc[cdtx['cust_id']==johndoe]"
   ]
  },
  {
   "cell_type": "code",
   "execution_count": 162,
   "metadata": {},
   "outputs": [
    {
     "name": "stdout",
     "output_type": "stream",
     "text": [
      "43\n"
     ]
    }
   ],
   "source": [
    "print(len(custinfo.loc[custinfo['cust_id']==johndoe]))\n",
    "johndoe_info = custinfo.loc[custinfo['cust_id']==johndoe]"
   ]
  },
  {
   "cell_type": "code",
   "execution_count": 167,
   "metadata": {},
   "outputs": [
    {
     "name": "stdout",
     "output_type": "stream",
     "text": [
      "43\n"
     ]
    }
   ],
   "source": [
    "johndoe_alert = johndoe_info['alert_key']\n",
    "print(len(johndoe_alert))"
   ]
  },
  {
   "cell_type": "code",
   "execution_count": 5,
   "metadata": {},
   "outputs": [
    {
     "name": "stdout",
     "output_type": "stream",
     "text": [
      "1398\n"
     ]
    },
    {
     "data": {
      "text/html": [
       "<div>\n",
       "<style scoped>\n",
       "    .dataframe tbody tr th:only-of-type {\n",
       "        vertical-align: middle;\n",
       "    }\n",
       "\n",
       "    .dataframe tbody tr th {\n",
       "        vertical-align: top;\n",
       "    }\n",
       "\n",
       "    .dataframe thead th {\n",
       "        text-align: right;\n",
       "    }\n",
       "</style>\n",
       "<table border=\"1\" class=\"dataframe\">\n",
       "  <thead>\n",
       "    <tr style=\"text-align: right;\">\n",
       "      <th></th>\n",
       "      <th>cust_id</th>\n",
       "      <th>debit_credit</th>\n",
       "      <th>tx_date</th>\n",
       "      <th>tx_time</th>\n",
       "      <th>tx_type</th>\n",
       "      <th>tx_amt</th>\n",
       "      <th>exchg_rate</th>\n",
       "      <th>info_asset_code</th>\n",
       "      <th>fiscTxId</th>\n",
       "      <th>txbranch</th>\n",
       "      <th>cross_bank</th>\n",
       "      <th>ATM</th>\n",
       "    </tr>\n",
       "  </thead>\n",
       "  <tbody>\n",
       "    <tr>\n",
       "      <th>377236</th>\n",
       "      <td>0032adaf4a8731b4d6a3fdcba32f9ebdcd336490eda155...</td>\n",
       "      <td>CR</td>\n",
       "      <td>5</td>\n",
       "      <td>9</td>\n",
       "      <td>2</td>\n",
       "      <td>98571.0</td>\n",
       "      <td>0.259</td>\n",
       "      <td>20</td>\n",
       "      <td>NaN</td>\n",
       "      <td>NaN</td>\n",
       "      <td>0</td>\n",
       "      <td>1</td>\n",
       "    </tr>\n",
       "    <tr>\n",
       "      <th>377646</th>\n",
       "      <td>0032adaf4a8731b4d6a3fdcba32f9ebdcd336490eda155...</td>\n",
       "      <td>DB</td>\n",
       "      <td>5</td>\n",
       "      <td>9</td>\n",
       "      <td>2</td>\n",
       "      <td>5004.0</td>\n",
       "      <td>0.259</td>\n",
       "      <td>20</td>\n",
       "      <td>NaN</td>\n",
       "      <td>NaN</td>\n",
       "      <td>0</td>\n",
       "      <td>1</td>\n",
       "    </tr>\n",
       "    <tr>\n",
       "      <th>377644</th>\n",
       "      <td>0032adaf4a8731b4d6a3fdcba32f9ebdcd336490eda155...</td>\n",
       "      <td>DB</td>\n",
       "      <td>5</td>\n",
       "      <td>9</td>\n",
       "      <td>2</td>\n",
       "      <td>5004.0</td>\n",
       "      <td>0.259</td>\n",
       "      <td>20</td>\n",
       "      <td>NaN</td>\n",
       "      <td>NaN</td>\n",
       "      <td>0</td>\n",
       "      <td>1</td>\n",
       "    </tr>\n",
       "    <tr>\n",
       "      <th>377233</th>\n",
       "      <td>0032adaf4a8731b4d6a3fdcba32f9ebdcd336490eda155...</td>\n",
       "      <td>CR</td>\n",
       "      <td>5</td>\n",
       "      <td>9</td>\n",
       "      <td>2</td>\n",
       "      <td>23369.0</td>\n",
       "      <td>0.259</td>\n",
       "      <td>20</td>\n",
       "      <td>NaN</td>\n",
       "      <td>NaN</td>\n",
       "      <td>0</td>\n",
       "      <td>1</td>\n",
       "    </tr>\n",
       "    <tr>\n",
       "      <th>377219</th>\n",
       "      <td>0032adaf4a8731b4d6a3fdcba32f9ebdcd336490eda155...</td>\n",
       "      <td>CR</td>\n",
       "      <td>5</td>\n",
       "      <td>9</td>\n",
       "      <td>2</td>\n",
       "      <td>14056.0</td>\n",
       "      <td>0.259</td>\n",
       "      <td>20</td>\n",
       "      <td>NaN</td>\n",
       "      <td>NaN</td>\n",
       "      <td>0</td>\n",
       "      <td>1</td>\n",
       "    </tr>\n",
       "    <tr>\n",
       "      <th>377618</th>\n",
       "      <td>0032adaf4a8731b4d6a3fdcba32f9ebdcd336490eda155...</td>\n",
       "      <td>DB</td>\n",
       "      <td>5</td>\n",
       "      <td>9</td>\n",
       "      <td>2</td>\n",
       "      <td>60053.0</td>\n",
       "      <td>0.259</td>\n",
       "      <td>20</td>\n",
       "      <td>NaN</td>\n",
       "      <td>NaN</td>\n",
       "      <td>0</td>\n",
       "      <td>1</td>\n",
       "    </tr>\n",
       "    <tr>\n",
       "      <th>377640</th>\n",
       "      <td>0032adaf4a8731b4d6a3fdcba32f9ebdcd336490eda155...</td>\n",
       "      <td>DB</td>\n",
       "      <td>14</td>\n",
       "      <td>14</td>\n",
       "      <td>2</td>\n",
       "      <td>1001.0</td>\n",
       "      <td>28.395</td>\n",
       "      <td>20</td>\n",
       "      <td>NaN</td>\n",
       "      <td>NaN</td>\n",
       "      <td>0</td>\n",
       "      <td>1</td>\n",
       "    </tr>\n",
       "    <tr>\n",
       "      <th>377246</th>\n",
       "      <td>0032adaf4a8731b4d6a3fdcba32f9ebdcd336490eda155...</td>\n",
       "      <td>CR</td>\n",
       "      <td>14</td>\n",
       "      <td>14</td>\n",
       "      <td>2</td>\n",
       "      <td>2010.0</td>\n",
       "      <td>28.395</td>\n",
       "      <td>20</td>\n",
       "      <td>NaN</td>\n",
       "      <td>NaN</td>\n",
       "      <td>0</td>\n",
       "      <td>1</td>\n",
       "    </tr>\n",
       "    <tr>\n",
       "      <th>377227</th>\n",
       "      <td>0032adaf4a8731b4d6a3fdcba32f9ebdcd336490eda155...</td>\n",
       "      <td>CR</td>\n",
       "      <td>15</td>\n",
       "      <td>11</td>\n",
       "      <td>2</td>\n",
       "      <td>226.0</td>\n",
       "      <td>28.345</td>\n",
       "      <td>20</td>\n",
       "      <td>NaN</td>\n",
       "      <td>NaN</td>\n",
       "      <td>0</td>\n",
       "      <td>1</td>\n",
       "    </tr>\n",
       "    <tr>\n",
       "      <th>377632</th>\n",
       "      <td>0032adaf4a8731b4d6a3fdcba32f9ebdcd336490eda155...</td>\n",
       "      <td>DB</td>\n",
       "      <td>15</td>\n",
       "      <td>11</td>\n",
       "      <td>2</td>\n",
       "      <td>2002.0</td>\n",
       "      <td>28.345</td>\n",
       "      <td>20</td>\n",
       "      <td>NaN</td>\n",
       "      <td>NaN</td>\n",
       "      <td>0</td>\n",
       "      <td>1</td>\n",
       "    </tr>\n",
       "  </tbody>\n",
       "</table>\n",
       "</div>"
      ],
      "text/plain": [
       "                                                  cust_id debit_credit  \\\n",
       "377236  0032adaf4a8731b4d6a3fdcba32f9ebdcd336490eda155...           CR   \n",
       "377646  0032adaf4a8731b4d6a3fdcba32f9ebdcd336490eda155...           DB   \n",
       "377644  0032adaf4a8731b4d6a3fdcba32f9ebdcd336490eda155...           DB   \n",
       "377233  0032adaf4a8731b4d6a3fdcba32f9ebdcd336490eda155...           CR   \n",
       "377219  0032adaf4a8731b4d6a3fdcba32f9ebdcd336490eda155...           CR   \n",
       "377618  0032adaf4a8731b4d6a3fdcba32f9ebdcd336490eda155...           DB   \n",
       "377640  0032adaf4a8731b4d6a3fdcba32f9ebdcd336490eda155...           DB   \n",
       "377246  0032adaf4a8731b4d6a3fdcba32f9ebdcd336490eda155...           CR   \n",
       "377227  0032adaf4a8731b4d6a3fdcba32f9ebdcd336490eda155...           CR   \n",
       "377632  0032adaf4a8731b4d6a3fdcba32f9ebdcd336490eda155...           DB   \n",
       "\n",
       "        tx_date  tx_time  tx_type   tx_amt  exchg_rate  info_asset_code  \\\n",
       "377236        5        9        2  98571.0       0.259               20   \n",
       "377646        5        9        2   5004.0       0.259               20   \n",
       "377644        5        9        2   5004.0       0.259               20   \n",
       "377233        5        9        2  23369.0       0.259               20   \n",
       "377219        5        9        2  14056.0       0.259               20   \n",
       "377618        5        9        2  60053.0       0.259               20   \n",
       "377640       14       14        2   1001.0      28.395               20   \n",
       "377246       14       14        2   2010.0      28.395               20   \n",
       "377227       15       11        2    226.0      28.345               20   \n",
       "377632       15       11        2   2002.0      28.345               20   \n",
       "\n",
       "        fiscTxId  txbranch  cross_bank  ATM  \n",
       "377236       NaN       NaN           0    1  \n",
       "377646       NaN       NaN           0    1  \n",
       "377644       NaN       NaN           0    1  \n",
       "377233       NaN       NaN           0    1  \n",
       "377219       NaN       NaN           0    1  \n",
       "377618       NaN       NaN           0    1  \n",
       "377640       NaN       NaN           0    1  \n",
       "377246       NaN       NaN           0    1  \n",
       "377227       NaN       NaN           0    1  \n",
       "377632       NaN       NaN           0    1  "
      ]
     },
     "execution_count": 5,
     "metadata": {},
     "output_type": "execute_result"
    }
   ],
   "source": [
    "print(len(dp.loc[dp['cust_id']==johndoe]))\n",
    "dp.loc[dp['cust_id']==johndoe].sort_values(['tx_date']).head(10)"
   ]
  },
  {
   "cell_type": "code",
   "execution_count": 148,
   "metadata": {},
   "outputs": [
    {
     "data": {
      "text/html": [
       "<div>\n",
       "<style scoped>\n",
       "    .dataframe tbody tr th:only-of-type {\n",
       "        vertical-align: middle;\n",
       "    }\n",
       "\n",
       "    .dataframe tbody tr th {\n",
       "        vertical-align: top;\n",
       "    }\n",
       "\n",
       "    .dataframe thead th {\n",
       "        text-align: right;\n",
       "    }\n",
       "</style>\n",
       "<table border=\"1\" class=\"dataframe\">\n",
       "  <thead>\n",
       "    <tr style=\"text-align: right;\">\n",
       "      <th></th>\n",
       "      <th>cust_id</th>\n",
       "      <th>trans_date</th>\n",
       "      <th>trans_no</th>\n",
       "      <th>trade_amount_usd</th>\n",
       "    </tr>\n",
       "  </thead>\n",
       "  <tbody>\n",
       "    <tr>\n",
       "      <th>4828</th>\n",
       "      <td>0032adaf4a8731b4d6a3fdcba32f9ebdcd336490eda155...</td>\n",
       "      <td>223</td>\n",
       "      <td>3</td>\n",
       "      <td>6071.0</td>\n",
       "    </tr>\n",
       "    <tr>\n",
       "      <th>4829</th>\n",
       "      <td>0032adaf4a8731b4d6a3fdcba32f9ebdcd336490eda155...</td>\n",
       "      <td>312</td>\n",
       "      <td>4</td>\n",
       "      <td>60024.0</td>\n",
       "    </tr>\n",
       "    <tr>\n",
       "      <th>4830</th>\n",
       "      <td>0032adaf4a8731b4d6a3fdcba32f9ebdcd336490eda155...</td>\n",
       "      <td>328</td>\n",
       "      <td>4</td>\n",
       "      <td>531413.0</td>\n",
       "    </tr>\n",
       "    <tr>\n",
       "      <th>4831</th>\n",
       "      <td>0032adaf4a8731b4d6a3fdcba32f9ebdcd336490eda155...</td>\n",
       "      <td>356</td>\n",
       "      <td>0</td>\n",
       "      <td>2109.0</td>\n",
       "    </tr>\n",
       "    <tr>\n",
       "      <th>4832</th>\n",
       "      <td>0032adaf4a8731b4d6a3fdcba32f9ebdcd336490eda155...</td>\n",
       "      <td>365</td>\n",
       "      <td>0</td>\n",
       "      <td>2387.0</td>\n",
       "    </tr>\n",
       "  </tbody>\n",
       "</table>\n",
       "</div>"
      ],
      "text/plain": [
       "                                                cust_id  trans_date  trans_no  \\\n",
       "4828  0032adaf4a8731b4d6a3fdcba32f9ebdcd336490eda155...         223         3   \n",
       "4829  0032adaf4a8731b4d6a3fdcba32f9ebdcd336490eda155...         312         4   \n",
       "4830  0032adaf4a8731b4d6a3fdcba32f9ebdcd336490eda155...         328         4   \n",
       "4831  0032adaf4a8731b4d6a3fdcba32f9ebdcd336490eda155...         356         0   \n",
       "4832  0032adaf4a8731b4d6a3fdcba32f9ebdcd336490eda155...         365         0   \n",
       "\n",
       "      trade_amount_usd  \n",
       "4828            6071.0  \n",
       "4829           60024.0  \n",
       "4830          531413.0  \n",
       "4831            2109.0  \n",
       "4832            2387.0  "
      ]
     },
     "execution_count": 148,
     "metadata": {},
     "output_type": "execute_result"
    }
   ],
   "source": [
    "remit.loc[remit['cust_id']==johndoe]"
   ]
  },
  {
   "cell_type": "code",
   "execution_count": 179,
   "metadata": {},
   "outputs": [
    {
     "name": "stdout",
     "output_type": "stream",
     "text": [
      "0\n"
     ]
    }
   ],
   "source": [
    "print((y.loc[ y['alert_key'].isin(johndoe_alert) ]['sar_flag']==1).sum())"
   ]
  },
  {
   "cell_type": "markdown",
   "metadata": {},
   "source": [
    "custinfo.alert_key, alert_train.alert_key, alert_test.alert_key are no duplicated."
   ]
  },
  {
   "cell_type": "markdown",
   "metadata": {},
   "source": [
    "### ccba, go over credit limit"
   ]
  },
  {
   "cell_type": "code",
   "execution_count": 94,
   "metadata": {},
   "outputs": [],
   "source": [
    "cc_overuse = ccba[ (ccba['cycam'] < ccba['usgam']) ].groupby('cust_id').size().sort_values(ascending=False)\n",
    "# 有644人超額使用信用卡，其中77人整年(13)都超額，289人指超額1次"
   ]
  },
  {
   "cell_type": "code",
   "execution_count": 8,
   "metadata": {},
   "outputs": [],
   "source": [
    "%matplotlib inline\n",
    "import matplotlib.pyplot as plt\n",
    "\n",
    "# function to add value labels\n",
    "def addlabels(x, y, tune):\n",
    "    for i in range(len(x)):\n",
    "        plt.text(x[i], y[i]+tune, y[i], ha = 'center')"
   ]
  },
  {
   "cell_type": "code",
   "execution_count": 95,
   "metadata": {},
   "outputs": [
    {
     "data": {
      "image/png": "[encoded data removed]",
      "text/plain": [
       "<Figure size 1000x500 with 1 Axes>"
      ]
     },
     "metadata": {},
     "output_type": "display_data"
    }
   ],
   "source": [
    "fig = plt.figure(figsize = (10, 5))\n",
    "\n",
    "months = [*range(1,14)]\n",
    "values = [sum(cc_overuse==i) for i in range(1,14)]\n",
    "\n",
    "# creating the bar plot\n",
    "plt.bar(months, values, color ='maroon',\n",
    "        width = 0.4)\n",
    "\n",
    "# calling the function to add value labels\n",
    "addlabels(months, values, 3)\n",
    "\n",
    "plt.xlabel(\"No. ppl\")\n",
    "plt.ylabel(\"No. of overusing months\")\n",
    "plt.title(\"how many ppl go over the limits\")\n",
    "plt.show()"
   ]
  },
  {
   "cell_type": "markdown",
   "metadata": {},
   "source": [
    "### ccba, cash"
   ]
  },
  {
   "cell_type": "code",
   "execution_count": 4,
   "metadata": {},
   "outputs": [
    {
     "data": {
      "text/html": [
       "<style>#sk-container-id-1 {color: black;background-color: white;}#sk-container-id-1 pre{padding: 0;}#sk-container-id-1 div.sk-toggleable {background-color: white;}#sk-container-id-1 label.sk-toggleable__label {cursor: pointer;display: block;width: 100%;margin-bottom: 0;padding: 0.3em;box-sizing: border-box;text-align: center;}#sk-container-id-1 label.sk-toggleable__label-arrow:before {content: \"▸\";float: left;margin-right: 0.25em;color: #696969;}#sk-container-id-1 label.sk-toggleable__label-arrow:hover:before {color: black;}#sk-container-id-1 div.sk-estimator:hover label.sk-toggleable__label-arrow:before {color: black;}#sk-container-id-1 div.sk-toggleable__content {max-height: 0;max-width: 0;overflow: hidden;text-align: left;background-color: #f0f8ff;}#sk-container-id-1 div.sk-toggleable__content pre {margin: 0.2em;color: black;border-radius: 0.25em;background-color: #f0f8ff;}#sk-container-id-1 input.sk-toggleable__control:checked~div.sk-toggleable__content {max-height: 200px;max-width: 100%;overflow: auto;}#sk-container-id-1 input.sk-toggleable__control:checked~label.sk-toggleable__label-arrow:before {content: \"▾\";}#sk-container-id-1 div.sk-estimator input.sk-toggleable__control:checked~label.sk-toggleable__label {background-color: #d4ebff;}#sk-container-id-1 div.sk-label input.sk-toggleable__control:checked~label.sk-toggleable__label {background-color: #d4ebff;}#sk-container-id-1 input.sk-hidden--visually {border: 0;clip: rect(1px 1px 1px 1px);clip: rect(1px, 1px, 1px, 1px);height: 1px;margin: -1px;overflow: hidden;padding: 0;position: absolute;width: 1px;}#sk-container-id-1 div.sk-estimator {font-family: monospace;background-color: #f0f8ff;border: 1px dotted black;border-radius: 0.25em;box-sizing: border-box;margin-bottom: 0.5em;}#sk-container-id-1 div.sk-estimator:hover {background-color: #d4ebff;}#sk-container-id-1 div.sk-parallel-item::after {content: \"\";width: 100%;border-bottom: 1px solid gray;flex-grow: 1;}#sk-container-id-1 div.sk-label:hover label.sk-toggleable__label {background-color: #d4ebff;}#sk-container-id-1 div.sk-serial::before {content: \"\";position: absolute;border-left: 1px solid gray;box-sizing: border-box;top: 0;bottom: 0;left: 50%;z-index: 0;}#sk-container-id-1 div.sk-serial {display: flex;flex-direction: column;align-items: center;background-color: white;padding-right: 0.2em;padding-left: 0.2em;position: relative;}#sk-container-id-1 div.sk-item {position: relative;z-index: 1;}#sk-container-id-1 div.sk-parallel {display: flex;align-items: stretch;justify-content: center;background-color: white;position: relative;}#sk-container-id-1 div.sk-item::before, #sk-container-id-1 div.sk-parallel-item::before {content: \"\";position: absolute;border-left: 1px solid gray;box-sizing: border-box;top: 0;bottom: 0;left: 50%;z-index: -1;}#sk-container-id-1 div.sk-parallel-item {display: flex;flex-direction: column;z-index: 1;position: relative;background-color: white;}#sk-container-id-1 div.sk-parallel-item:first-child::after {align-self: flex-end;width: 50%;}#sk-container-id-1 div.sk-parallel-item:last-child::after {align-self: flex-start;width: 50%;}#sk-container-id-1 div.sk-parallel-item:only-child::after {width: 0;}#sk-container-id-1 div.sk-dashed-wrapped {border: 1px dashed gray;margin: 0 0.4em 0.5em 0.4em;box-sizing: border-box;padding-bottom: 0.4em;background-color: white;}#sk-container-id-1 div.sk-label label {font-family: monospace;font-weight: bold;display: inline-block;line-height: 1.2em;}#sk-container-id-1 div.sk-label-container {text-align: center;}#sk-container-id-1 div.sk-container {/* jupyter's `normalize.less` sets `[hidden] { display: none; }` but bootstrap.min.css set `[hidden] { display: none !important; }` so we also need the `!important` here to be able to override the default hidden behavior on the sphinx rendered scikit-learn.org. See: https://github.com/scikit-learn/scikit-learn/issues/21755 */display: inline-block !important;position: relative;}#sk-container-id-1 div.sk-text-repr-fallback {display: none;}</style><div id=\"sk-container-id-1\" class=\"sk-top-container\"><div class=\"sk-text-repr-fallback\"><pre>LinearRegression()</pre><b>In a Jupyter environment, please rerun this cell to show the HTML representation or trust the notebook. <br />On GitHub, the HTML representation is unable to render, please try loading this page with nbviewer.org.</b></div><div class=\"sk-container\" hidden><div class=\"sk-item\"><div class=\"sk-estimator sk-toggleable\"><input class=\"sk-toggleable__control sk-hidden--visually\" id=\"sk-estimator-id-1\" type=\"checkbox\" checked><label for=\"sk-estimator-id-1\" class=\"sk-toggleable__label sk-toggleable__label-arrow\">LinearRegression</label><div class=\"sk-toggleable__content\"><pre>LinearRegression()</pre></div></div></div></div></div>"
      ],
      "text/plain": [
       "LinearRegression()"
      ]
     },
     "execution_count": 4,
     "metadata": {},
     "output_type": "execute_result"
    }
   ],
   "source": [
    "test_y = ccba['cucah']\n",
    "text_X= ccba[['cucsm','inamt','csamt','clamt','usgam','cycam']] \n",
    "\n",
    "from sklearn.linear_model import LinearRegression\n",
    "model = LinearRegression(fit_intercept=True)\n",
    "\n",
    "model.fit(text_X, test_y)"
   ]
  },
  {
   "cell_type": "code",
   "execution_count": 20,
   "metadata": {},
   "outputs": [
    {
     "data": {
      "text/html": [
       "<div>\n",
       "<style scoped>\n",
       "    .dataframe tbody tr th:only-of-type {\n",
       "        vertical-align: middle;\n",
       "    }\n",
       "\n",
       "    .dataframe tbody tr th {\n",
       "        vertical-align: top;\n",
       "    }\n",
       "\n",
       "    .dataframe thead th {\n",
       "        text-align: right;\n",
       "    }\n",
       "</style>\n",
       "<table border=\"1\" class=\"dataframe\">\n",
       "  <thead>\n",
       "    <tr style=\"text-align: right;\">\n",
       "      <th></th>\n",
       "      <th>param</th>\n",
       "      <th>coef</th>\n",
       "    </tr>\n",
       "  </thead>\n",
       "  <tbody>\n",
       "    <tr>\n",
       "      <th>1</th>\n",
       "      <td>inamt</td>\n",
       "      <td>-0.000318</td>\n",
       "    </tr>\n",
       "    <tr>\n",
       "      <th>0</th>\n",
       "      <td>cucsm</td>\n",
       "      <td>-0.000017</td>\n",
       "    </tr>\n",
       "    <tr>\n",
       "      <th>5</th>\n",
       "      <td>cycam</td>\n",
       "      <td>0.000016</td>\n",
       "    </tr>\n",
       "    <tr>\n",
       "      <th>4</th>\n",
       "      <td>usgam</td>\n",
       "      <td>0.000021</td>\n",
       "    </tr>\n",
       "    <tr>\n",
       "      <th>2</th>\n",
       "      <td>csamt</td>\n",
       "      <td>0.300723</td>\n",
       "    </tr>\n",
       "    <tr>\n",
       "      <th>3</th>\n",
       "      <td>clamt</td>\n",
       "      <td>1.069875</td>\n",
       "    </tr>\n",
       "  </tbody>\n",
       "</table>\n",
       "</div>"
      ],
      "text/plain": [
       "   param      coef\n",
       "1  inamt -0.000318\n",
       "0  cucsm -0.000017\n",
       "5  cycam  0.000016\n",
       "4  usgam  0.000021\n",
       "2  csamt  0.300723\n",
       "3  clamt  1.069875"
      ]
     },
     "execution_count": 20,
     "metadata": {},
     "output_type": "execute_result"
    }
   ],
   "source": [
    "pd.DataFrame({\n",
    "     'param' : model.feature_names_in_ , \n",
    "     'coef' : model.coef_\n",
    "     }).sort_values(by=['coef'])"
   ]
  },
  {
   "cell_type": "code",
   "execution_count": 15,
   "metadata": {},
   "outputs": [
    {
     "data": {
      "text/plain": [
       "count     59075.000000\n",
       "mean        104.050783\n",
       "std        4959.320391\n",
       "min     -202909.000000\n",
       "25%           0.000000\n",
       "50%           0.000000\n",
       "75%           0.000000\n",
       "max      614124.000000\n",
       "dtype: float64"
      ]
     },
     "execution_count": 15,
     "metadata": {},
     "output_type": "execute_result"
    }
   ],
   "source": [
    "cash = (ccba['cucah'] - ccba['csamt'] - ccba['clamt'])\n",
    "# cash[cash.astype(bool)]\n",
    "cash.describe()"
   ]
  },
  {
   "cell_type": "markdown",
   "metadata": {},
   "source": [
    "### cdtx, country"
   ]
  },
  {
   "cell_type": "code",
   "execution_count": 195,
   "metadata": {},
   "outputs": [
    {
     "data": {
      "image/png": "[encoded data removed]",
      "text/plain": [
       "<Figure size 640x480 with 1 Axes>"
      ]
     },
     "metadata": {},
     "output_type": "display_data"
    }
   ],
   "source": [
    "'''\n",
    "country_group = cdtx.groupby('country')\n",
    "n_country_group = country_group.size().sort_values(ascending=False)\n",
    "\n",
    "# pie chart\n",
    "plt.pie(n_country_group, labels = n_country_group.index, autopct='%.2f%%')\n",
    "plt.title(\"pie chart of cdtx.country (130=tw)\")\n",
    "plt.show() \n",
    "'''"
   ]
  },
  {
   "cell_type": "code",
   "execution_count": 38,
   "metadata": {},
   "outputs": [
    {
     "name": "stdout",
     "output_type": "stream",
     "text": [
      "country\n",
      "130    758909\n",
      "134    113098\n",
      "61      32445\n",
      "135     27127\n",
      "44      19151\n",
      "43      15405\n",
      "53      14500\n",
      "52      13270\n",
      "68       8948\n",
      "119      7930\n",
      "57       6787\n",
      "19       3977\n",
      "118      1941\n",
      "42       1853\n",
      "125      1677\n",
      "dtype: int64\n"
     ]
    }
   ],
   "source": [
    "print(n_country_group.iloc[:15])"
   ]
  },
  {
   "cell_type": "markdown",
   "metadata": {},
   "source": [
    "### cdtx, currency type"
   ]
  },
  {
   "cell_type": "code",
   "execution_count": 196,
   "metadata": {},
   "outputs": [
    {
     "data": {
      "image/png": "[encoded data removed]",
      "text/plain": [
       "<Figure size 640x480 with 1 Axes>"
      ]
     },
     "metadata": {},
     "output_type": "display_data"
    }
   ],
   "source": [
    "'''cur_group = cdtx.groupby('cur_type')\n",
    "n_cur_group = cur_group.size().sort_values(ascending=False)\n",
    "\n",
    "# pie chart\n",
    "plt.pie(n_cur_group, labels = n_cur_group.index, autopct='%.2f%%')\n",
    "plt.title(\"pie chart of cdtx.cur_type (47=ntd)\")\n",
    "plt.show() \n",
    "'''"
   ]
  },
  {
   "cell_type": "code",
   "execution_count": 52,
   "metadata": {},
   "outputs": [
    {
     "data": {
      "text/plain": [
       "51"
      ]
     },
     "execution_count": 52,
     "metadata": {},
     "output_type": "execute_result"
    }
   ],
   "source": [
    "len(cur_group.size())"
   ]
  },
  {
   "cell_type": "code",
   "execution_count": 48,
   "metadata": {},
   "outputs": [
    {
     "name": "stdout",
     "output_type": "stream",
     "text": [
      "cur_type\n",
      "47    843174\n",
      "46     94024\n",
      "13     26538\n",
      "30     25912\n",
      "50     11433\n",
      "19      9826\n",
      "16      6937\n",
      "6       4806\n",
      "7       4530\n",
      "53      4275\n",
      "0       4103\n",
      "45      2940\n",
      "34       778\n",
      "36       533\n",
      "24       424\n",
      "dtype: int64\n"
     ]
    }
   ],
   "source": [
    "print(n_cur_group.iloc[:15])"
   ]
  },
  {
   "cell_type": "markdown",
   "metadata": {},
   "source": [
    "### custinfo, risk_rank"
   ]
  },
  {
   "cell_type": "code",
   "execution_count": 103,
   "metadata": {},
   "outputs": [
    {
     "data": {
      "image/png": "[encoded data removed]",
      "text/plain": [
       "<Figure size 640x480 with 1 Axes>"
      ]
     },
     "metadata": {},
     "output_type": "display_data"
    }
   ],
   "source": [
    "'''risk_group = custinfo.groupby('risk_rank')\n",
    "risk_idx = ['0','1','2','3']\n",
    "\n",
    "# bar chart\n",
    "plt.bar(risk_idx, risk_group.size(), \n",
    "        color ='maroon')\n",
    "\n",
    "# calling the function to add value labels\n",
    "addlabels(risk_idx, risk_group.size(), 10)\n",
    "\n",
    "plt.xlabel(\"Risk_rank\")\n",
    "plt.ylabel(\"No. ppl\")\n",
    "plt.title(\"distribution of risk rank\")\n",
    "plt.show()\n",
    "'''"
   ]
  },
  {
   "cell_type": "markdown",
   "metadata": {},
   "source": [
    "### custinfo, occupation_code"
   ]
  },
  {
   "cell_type": "code",
   "execution_count": 116,
   "metadata": {},
   "outputs": [
    {
     "data": {
      "image/png": "[encoded data removed]",
      "text/plain": [
       "<Figure size 640x480 with 1 Axes>"
      ]
     },
     "metadata": {},
     "output_type": "display_data"
    }
   ],
   "source": [
    "'''\n",
    "job_group = custinfo.groupby('occupation_code')\n",
    "n_job_group = job_group.size().sort_values(ascending=False)\n",
    "\n",
    "# bar chart\n",
    "plt.bar(n_job_group.index, job_group.size(), \n",
    "        color ='maroon')\n",
    "\n",
    "# calling the function to add value labels\n",
    "addlabels(n_job_group.index, job_group.size(), 10)\n",
    "\n",
    "\n",
    "plt.xticks(n_job_group.index, rotation='vertical')\n",
    "\n",
    "plt.xlabel(\"Occupation_code\")\n",
    "plt.ylabel(\"No. ppl\")\n",
    "plt.title(\"distribution of Occupation_code\")\n",
    "plt.show()\n",
    "'''"
   ]
  },
  {
   "cell_type": "markdown",
   "metadata": {},
   "source": [
    "### custinfo_AGE"
   ]
  },
  {
   "cell_type": "code",
   "execution_count": 17,
   "metadata": {},
   "outputs": [
    {
     "data": {
      "image/png": "[encoded data removed]",
      "text/plain": [
       "<Figure size 640x480 with 1 Axes>"
      ]
     },
     "metadata": {},
     "output_type": "display_data"
    }
   ],
   "source": [
    "'''\n",
    "age_group = custinfo.groupby('AGE')\n",
    "n_age_group = age_group.size()\n",
    "\n",
    "# bar chart\n",
    "plt.bar(n_age_group.index, age_group.size(), \n",
    "        color ='maroon')\n",
    "\n",
    "# calling the function to add value labels\n",
    "addlabels(n_age_group.index, age_group.size(), 15)\n",
    "\n",
    "\n",
    "plt.xticks(n_age_group.index, rotation='vertical')\n",
    "\n",
    "plt.xlabel(\"age\")\n",
    "plt.ylabel(\"No. ppl\")\n",
    "plt.title(\"distribution of age\")\n",
    "plt.show()\n",
    "'''"
   ]
  },
  {
   "cell_type": "code",
   "execution_count": 22,
   "metadata": {},
   "outputs": [
    {
     "data": {
      "image/png": "[encoded data removed]",
      "text/plain": [
       "<Figure size 640x480 with 1 Axes>"
      ]
     },
     "metadata": {},
     "output_type": "display_data"
    }
   ],
   "source": [
    "# apply groupby on the age column\n",
    "# plotting\n",
    "\n",
    "custinfo.groupby('AGE').size().plot(kind = \"bar\", ylabel=\"No. ppl\", rot=1, color ='maroon', title='distribution of age')\n",
    "addlabels(n_age_group.index, age_group.size(), 15)"
   ]
  },
  {
   "cell_type": "code",
   "execution_count": 117,
   "metadata": {},
   "outputs": [],
   "source": [
    "%matplotlib inline\n",
    "import matplotlib.pyplot as plt\n",
    "\n",
    "# function to add value labels\n",
    "def addpielabels(target):\n",
    "    pielabels = []\n",
    "    for i in range(len(target)):\n",
    "        pielabels.append((target.index[i], target.values[i]))\n",
    "    return pielabels"
   ]
  },
  {
   "cell_type": "markdown",
   "metadata": {},
   "source": [
    "### alert"
   ]
  },
  {
   "cell_type": "code",
   "execution_count": 9,
   "metadata": {},
   "outputs": [
    {
     "data": {
      "text/html": [
       "<div>\n",
       "<style scoped>\n",
       "    .dataframe tbody tr th:only-of-type {\n",
       "        vertical-align: middle;\n",
       "    }\n",
       "\n",
       "    .dataframe tbody tr th {\n",
       "        vertical-align: top;\n",
       "    }\n",
       "\n",
       "    .dataframe thead th {\n",
       "        text-align: right;\n",
       "    }\n",
       "</style>\n",
       "<table border=\"1\" class=\"dataframe\">\n",
       "  <thead>\n",
       "    <tr style=\"text-align: right;\">\n",
       "      <th></th>\n",
       "      <th>alert_key</th>\n",
       "      <th>date</th>\n",
       "    </tr>\n",
       "  </thead>\n",
       "  <tbody>\n",
       "    <tr>\n",
       "      <th>0</th>\n",
       "      <td>352342</td>\n",
       "      <td>365</td>\n",
       "    </tr>\n",
       "    <tr>\n",
       "      <th>1</th>\n",
       "      <td>352866</td>\n",
       "      <td>365</td>\n",
       "    </tr>\n",
       "    <tr>\n",
       "      <th>2</th>\n",
       "      <td>352696</td>\n",
       "      <td>365</td>\n",
       "    </tr>\n",
       "    <tr>\n",
       "      <th>3</th>\n",
       "      <td>352330</td>\n",
       "      <td>365</td>\n",
       "    </tr>\n",
       "    <tr>\n",
       "      <th>4</th>\n",
       "      <td>352683</td>\n",
       "      <td>365</td>\n",
       "    </tr>\n",
       "  </tbody>\n",
       "</table>\n",
       "</div>"
      ],
      "text/plain": [
       "   alert_key  date\n",
       "0     352342   365\n",
       "1     352866   365\n",
       "2     352696   365\n",
       "3     352330   365\n",
       "4     352683   365"
      ]
     },
     "execution_count": 9,
     "metadata": {},
     "output_type": "execute_result"
    }
   ],
   "source": [
    "alert_public.head()"
   ]
  },
  {
   "cell_type": "code",
   "execution_count": 56,
   "metadata": {},
   "outputs": [
    {
     "data": {
      "text/html": [
       "<div>\n",
       "<style scoped>\n",
       "    .dataframe tbody tr th:only-of-type {\n",
       "        vertical-align: middle;\n",
       "    }\n",
       "\n",
       "    .dataframe tbody tr th {\n",
       "        vertical-align: top;\n",
       "    }\n",
       "\n",
       "    .dataframe thead th {\n",
       "        text-align: right;\n",
       "    }\n",
       "</style>\n",
       "<table border=\"1\" class=\"dataframe\">\n",
       "  <thead>\n",
       "    <tr style=\"text-align: right;\">\n",
       "      <th></th>\n",
       "      <th>alert_key</th>\n",
       "      <th>date</th>\n",
       "    </tr>\n",
       "  </thead>\n",
       "  <tbody>\n",
       "    <tr>\n",
       "      <th>0</th>\n",
       "      <td>171189</td>\n",
       "      <td>0</td>\n",
       "    </tr>\n",
       "    <tr>\n",
       "      <th>1</th>\n",
       "      <td>171202</td>\n",
       "      <td>0</td>\n",
       "    </tr>\n",
       "    <tr>\n",
       "      <th>2</th>\n",
       "      <td>171599</td>\n",
       "      <td>0</td>\n",
       "    </tr>\n",
       "    <tr>\n",
       "      <th>3</th>\n",
       "      <td>171737</td>\n",
       "      <td>0</td>\n",
       "    </tr>\n",
       "    <tr>\n",
       "      <th>4</th>\n",
       "      <td>171142</td>\n",
       "      <td>0</td>\n",
       "    </tr>\n",
       "  </tbody>\n",
       "</table>\n",
       "</div>"
      ],
      "text/plain": [
       "   alert_key  date\n",
       "0     171189     0\n",
       "1     171202     0\n",
       "2     171599     0\n",
       "3     171737     0\n",
       "4     171142     0"
      ]
     },
     "execution_count": 56,
     "metadata": {},
     "output_type": "execute_result"
    }
   ],
   "source": [
    "alert_train.head()"
   ]
  },
  {
   "cell_type": "code",
   "execution_count": 7,
   "metadata": {},
   "outputs": [
    {
     "data": {
      "text/plain": [
       "array([365, 370, 371, 372, 375, 376, 377, 378, 379, 382, 383, 384, 385,\n",
       "       386, 389, 390, 391, 392, 393], dtype=int64)"
      ]
     },
     "execution_count": 7,
     "metadata": {},
     "output_type": "execute_result"
    }
   ],
   "source": [
    "alert_public.date.unique()"
   ]
  },
  {
   "cell_type": "code",
   "execution_count": 6,
   "metadata": {},
   "outputs": [
    {
     "data": {
      "text/plain": [
       "array([  0,   5,   6,   7,   8,  11,  12,  13,  14,  15,  18,  19,  20,\n",
       "        21,  22,  25,  26,  27,  28,  32,  33,  34,  35,  36,  39,  40,\n",
       "        41,  42,  43,  46,  47,  48,  49,  50,  53,  54,  55,  56,  57,\n",
       "        60,  61,  62,  63,  64,  67,  68,  69,  70,  71,  75,  76,  77,\n",
       "        78,  81,  82,  83,  84,  85,  88,  89,  90,  91,  92,  95,  96,\n",
       "        97,  98,  99, 102, 103, 104, 105, 106, 109, 110, 111, 112, 113,\n",
       "       116, 117, 118, 119, 120, 123, 124, 125, 126, 127, 130, 131, 132,\n",
       "       133, 134, 137, 138, 139, 140, 141, 144, 145, 146, 147, 148, 151,\n",
       "       152, 153, 154, 155, 158, 159, 160, 161, 162, 163, 165, 166, 167,\n",
       "       168, 169, 174, 175, 176, 179, 180, 181, 182, 183, 186, 187, 188,\n",
       "       189, 190, 194, 195, 196, 197, 200, 201, 202, 203, 204, 207, 208,\n",
       "       209, 210, 211, 215, 216, 217, 218, 221, 222, 223, 224, 225, 229,\n",
       "       230, 231, 232, 235, 236, 237, 238, 239, 242, 244, 245, 246, 250,\n",
       "       251, 252, 253, 257, 258, 259, 260, 263, 265, 266, 267, 270, 271,\n",
       "       272, 273, 277, 278, 279, 280, 281, 284, 285, 286, 287, 288, 291,\n",
       "       292, 293, 294, 295, 296, 298, 299, 300, 301, 302, 312, 313, 314,\n",
       "       315, 316, 319, 320, 321, 322, 323, 326, 327, 328, 329, 330, 334,\n",
       "       335, 336, 337, 340, 341, 342, 343, 344, 347, 348, 349, 350, 351,\n",
       "       354, 355, 356, 357, 358, 361, 362, 363, 364], dtype=int64)"
      ]
     },
     "execution_count": 6,
     "metadata": {},
     "output_type": "execute_result"
    }
   ],
   "source": [
    "alert_train.date.unique()"
   ]
  },
  {
   "cell_type": "code",
   "execution_count": 60,
   "metadata": {},
   "outputs": [
    {
     "data": {
      "text/html": [
       "<div>\n",
       "<style scoped>\n",
       "    .dataframe tbody tr th:only-of-type {\n",
       "        vertical-align: middle;\n",
       "    }\n",
       "\n",
       "    .dataframe tbody tr th {\n",
       "        vertical-align: top;\n",
       "    }\n",
       "\n",
       "    .dataframe thead th {\n",
       "        text-align: right;\n",
       "    }\n",
       "</style>\n",
       "<table border=\"1\" class=\"dataframe\">\n",
       "  <thead>\n",
       "    <tr style=\"text-align: right;\">\n",
       "      <th></th>\n",
       "      <th>alert_key_x</th>\n",
       "      <th>date</th>\n",
       "      <th>alert_key_y</th>\n",
       "    </tr>\n",
       "  </thead>\n",
       "  <tbody>\n",
       "    <tr>\n",
       "      <th>0</th>\n",
       "      <td>171189.0</td>\n",
       "      <td>0</td>\n",
       "      <td>NaN</td>\n",
       "    </tr>\n",
       "    <tr>\n",
       "      <th>1</th>\n",
       "      <td>171202.0</td>\n",
       "      <td>0</td>\n",
       "      <td>NaN</td>\n",
       "    </tr>\n",
       "    <tr>\n",
       "      <th>2</th>\n",
       "      <td>171599.0</td>\n",
       "      <td>0</td>\n",
       "      <td>NaN</td>\n",
       "    </tr>\n",
       "    <tr>\n",
       "      <th>3</th>\n",
       "      <td>171737.0</td>\n",
       "      <td>0</td>\n",
       "      <td>NaN</td>\n",
       "    </tr>\n",
       "    <tr>\n",
       "      <th>4</th>\n",
       "      <td>171142.0</td>\n",
       "      <td>0</td>\n",
       "      <td>NaN</td>\n",
       "    </tr>\n",
       "  </tbody>\n",
       "</table>\n",
       "</div>"
      ],
      "text/plain": [
       "   alert_key_x  date  alert_key_y\n",
       "0     171189.0     0          NaN\n",
       "1     171202.0     0          NaN\n",
       "2     171599.0     0          NaN\n",
       "3     171737.0     0          NaN\n",
       "4     171142.0     0          NaN"
      ]
     },
     "execution_count": 60,
     "metadata": {},
     "output_type": "execute_result"
    }
   ],
   "source": [
    "alert_train.merge(alert_public, on='date', how='outer').head()"
   ]
  },
  {
   "cell_type": "code",
   "execution_count": 71,
   "metadata": {},
   "outputs": [
    {
     "data": {
      "text/plain": [
       "date\n",
       "365     80\n",
       "370    132\n",
       "371     79\n",
       "372     91\n",
       "375    126\n",
       "376    125\n",
       "377    186\n",
       "378    107\n",
       "379     71\n",
       "382    104\n",
       "383     90\n",
       "384     66\n",
       "385     66\n",
       "386     89\n",
       "389     99\n",
       "390     77\n",
       "391     76\n",
       "392     79\n",
       "393    102\n",
       "dtype: int64"
      ]
     },
     "execution_count": 71,
     "metadata": {},
     "output_type": "execute_result"
    }
   ],
   "source": [
    "alert_public.groupby('date').size()"
   ]
  },
  {
   "cell_type": "code",
   "execution_count": 78,
   "metadata": {},
   "outputs": [
    {
     "data": {
      "text/plain": [
       "0"
      ]
     },
     "execution_count": 78,
     "metadata": {},
     "output_type": "execute_result"
    }
   ],
   "source": [
    "alert_train.groupby('date').size().isnull().sum()"
   ]
  },
  {
   "cell_type": "code",
   "execution_count": 79,
   "metadata": {},
   "outputs": [
    {
     "data": {
      "image/png": "[encoded data removed]",
      "text/plain": [
       "<Figure size 640x480 with 1 Axes>"
      ]
     },
     "metadata": {},
     "output_type": "display_data"
    }
   ],
   "source": [
    "#cut = 364\n",
    "#plt.bar(x[:x0+1], y[:x0+1])\n",
    "#plt.bar(x[x0:], y[x0:])\n",
    " #(x,y)\n",
    "\n",
    "# bar chart\n",
    "plt.bar(alert_public.groupby('date').size().index, alert_public.groupby('date').size(), \n",
    "        color ='blue')\n",
    "plt.bar(alert_train.groupby('date').size().index, alert_train.groupby('date').size(), \n",
    "        color ='maroon')       \n",
    "\n",
    "# calling the function to add value labels\n",
    "# addlabels(alert_group.size().index,  alert_group.size(), 15)\n",
    "\n",
    "for i in range(len(alert_public.groupby('date').size().index)):\n",
    "        if alert_public.groupby('date').size().index[i] == 0:\n",
    "            plt.axvspan(i, i+1, alpha=0.5, color='gray')\n",
    "\n",
    "for i in range(len(alert_train.groupby('date').size().index)):\n",
    "        if alert_train.groupby('date').size().index[i] == 0:\n",
    "            plt.axvspan(i, i+1, alpha=0.5, color='gray')\n",
    "            \n",
    "#plt.xticks( alert_group.size().index, rotation='vertical')\n",
    "\n",
    "plt.axvline(x = 364, color = 'gray', linestyle='dashed')\n",
    "plt.xlim((0,400))\n",
    "plt.xlabel(\"date\")\n",
    "plt.ylabel(\"No. alerts\")\n",
    "plt.title(\"no. alerts per day\")\n",
    "\n",
    "plt.show()\n",
    "# addlabels(n_age_group.index, age_group.size(), 15)"
   ]
  },
  {
   "cell_type": "markdown",
   "metadata": {},
   "source": [
    "### y, sar"
   ]
  },
  {
   "cell_type": "code",
   "execution_count": null,
   "metadata": {},
   "outputs": [
    {
     "data": {
      "text/plain": [
       "0"
      ]
     },
     "metadata": {},
     "output_type": "display_data"
    }
   ],
   "source": [
    "sum(y.duplicated())"
   ]
  },
  {
   "cell_type": "code",
   "execution_count": null,
   "metadata": {},
   "outputs": [
    {
     "name": "stdout",
     "output_type": "stream",
     "text": [
      "23906 234 0.009788337655818623\n"
     ]
    }
   ],
   "source": [
    "print( len(y), sum(y['sar_flag']), (sum(y['sar_flag'])/len(y)))"
   ]
  },
  {
   "cell_type": "markdown",
   "metadata": {},
   "source": [
    "## dp"
   ]
  },
  {
   "cell_type": "markdown",
   "metadata": {},
   "source": [
    "### dp, debit_credit"
   ]
  },
  {
   "cell_type": "code",
   "execution_count": 34,
   "metadata": {},
   "outputs": [
    {
     "data": {
      "text/plain": [
       "<AxesSubplot:>"
      ]
     },
     "execution_count": 34,
     "metadata": {},
     "output_type": "execute_result"
    },
    {
     "data": {
      "image/png": "[encoded data removed]",
      "text/plain": [
       "<Figure size 640x480 with 1 Axes>"
      ]
     },
     "metadata": {},
     "output_type": "display_data"
    }
   ],
   "source": [
    "dp.groupby('debit_credit').size().plot(kind = 'pie', labels = addpielabels(dp['debit_credit'].value_counts()), autopct='%.2f%%')"
   ]
  },
  {
   "cell_type": "markdown",
   "metadata": {},
   "source": [
    "- is there missing values in dp?"
   ]
  },
  {
   "cell_type": "code",
   "execution_count": 26,
   "metadata": {},
   "outputs": [
    {
     "data": {
      "text/plain": [
       "cust_id                  0\n",
       "debit_credit             0\n",
       "tx_date                  0\n",
       "tx_time                  0\n",
       "tx_type                  0\n",
       "tx_amt               22015\n",
       "exchg_rate               0\n",
       "info_asset_code          0\n",
       "fiscTxId           1043090\n",
       "txbranch           1003150\n",
       "cross_bank               0\n",
       "ATM                      0\n",
       "dtype: int64"
      ]
     },
     "execution_count": 26,
     "metadata": {},
     "output_type": "execute_result"
    }
   ],
   "source": [
    "dp.isnull().sum()"
   ]
  },
  {
   "cell_type": "markdown",
   "metadata": {},
   "source": [
    "- how many differn values do each columns have?"
   ]
  },
  {
   "cell_type": "code",
   "execution_count": 138,
   "metadata": {},
   "outputs": [
    {
     "name": "stdout",
     "output_type": "stream",
     "text": [
      "cust_id, 1043 \n",
      "debit_credit, 2 \n",
      "tx_date, 374 \n",
      "tx_time, 24 \n",
      "tx_type, 3 \n",
      "tx_amt, 717 \n",
      "exchg_rate, 300 \n",
      "info_asset_code, 22 \n",
      "fiscTxId, 29 \n",
      "txbranch, 217 \n",
      "cross_bank, 2 \n",
      "ATM, 2 \n",
      "NTD, 684 \n"
     ]
    }
   ],
   "source": [
    "for i in list(dp.columns):\n",
    "    print( f'{i}, {len(dp.groupby(i).size().unique())} ')"
   ]
  },
  {
   "cell_type": "markdown",
   "metadata": {},
   "source": [
    "- by Q&A, tx_amt*exchg_rate = NTD"
   ]
  },
  {
   "cell_type": "code",
   "execution_count": 106,
   "metadata": {},
   "outputs": [
    {
     "data": {
      "text/html": [
       "<div>\n",
       "<style scoped>\n",
       "    .dataframe tbody tr th:only-of-type {\n",
       "        vertical-align: middle;\n",
       "    }\n",
       "\n",
       "    .dataframe tbody tr th {\n",
       "        vertical-align: top;\n",
       "    }\n",
       "\n",
       "    .dataframe thead th {\n",
       "        text-align: right;\n",
       "    }\n",
       "</style>\n",
       "<table border=\"1\" class=\"dataframe\">\n",
       "  <thead>\n",
       "    <tr style=\"text-align: right;\">\n",
       "      <th></th>\n",
       "      <th>cust_id</th>\n",
       "      <th>debit_credit</th>\n",
       "      <th>tx_date</th>\n",
       "      <th>tx_time</th>\n",
       "      <th>tx_type</th>\n",
       "      <th>tx_amt</th>\n",
       "      <th>exchg_rate</th>\n",
       "      <th>info_asset_code</th>\n",
       "      <th>fiscTxId</th>\n",
       "      <th>txbranch</th>\n",
       "      <th>cross_bank</th>\n",
       "      <th>ATM</th>\n",
       "      <th>NTD</th>\n",
       "    </tr>\n",
       "  </thead>\n",
       "  <tbody>\n",
       "    <tr>\n",
       "      <th>0</th>\n",
       "      <td>0172056578071e83399216fcd640bdc4de4583149d0fd9...</td>\n",
       "      <td>CR</td>\n",
       "      <td>36</td>\n",
       "      <td>18</td>\n",
       "      <td>2</td>\n",
       "      <td>68265.0</td>\n",
       "      <td>1.0</td>\n",
       "      <td>16</td>\n",
       "      <td>NaN</td>\n",
       "      <td>NaN</td>\n",
       "      <td>0</td>\n",
       "      <td>0</td>\n",
       "      <td>68265.0</td>\n",
       "    </tr>\n",
       "    <tr>\n",
       "      <th>1</th>\n",
       "      <td>0172056578071e83399216fcd640bdc4de4583149d0fd9...</td>\n",
       "      <td>CR</td>\n",
       "      <td>42</td>\n",
       "      <td>17</td>\n",
       "      <td>2</td>\n",
       "      <td>932058.0</td>\n",
       "      <td>1.0</td>\n",
       "      <td>16</td>\n",
       "      <td>NaN</td>\n",
       "      <td>NaN</td>\n",
       "      <td>0</td>\n",
       "      <td>0</td>\n",
       "      <td>932058.0</td>\n",
       "    </tr>\n",
       "    <tr>\n",
       "      <th>2</th>\n",
       "      <td>0172056578071e83399216fcd640bdc4de4583149d0fd9...</td>\n",
       "      <td>CR</td>\n",
       "      <td>39</td>\n",
       "      <td>18</td>\n",
       "      <td>2</td>\n",
       "      <td>6089.0</td>\n",
       "      <td>1.0</td>\n",
       "      <td>16</td>\n",
       "      <td>NaN</td>\n",
       "      <td>NaN</td>\n",
       "      <td>0</td>\n",
       "      <td>0</td>\n",
       "      <td>6089.0</td>\n",
       "    </tr>\n",
       "    <tr>\n",
       "      <th>3</th>\n",
       "      <td>0172056578071e83399216fcd640bdc4de4583149d0fd9...</td>\n",
       "      <td>CR</td>\n",
       "      <td>49</td>\n",
       "      <td>15</td>\n",
       "      <td>2</td>\n",
       "      <td>776715.0</td>\n",
       "      <td>1.0</td>\n",
       "      <td>16</td>\n",
       "      <td>NaN</td>\n",
       "      <td>NaN</td>\n",
       "      <td>0</td>\n",
       "      <td>0</td>\n",
       "      <td>776715.0</td>\n",
       "    </tr>\n",
       "    <tr>\n",
       "      <th>4</th>\n",
       "      <td>0172056578071e83399216fcd640bdc4de4583149d0fd9...</td>\n",
       "      <td>CR</td>\n",
       "      <td>70</td>\n",
       "      <td>19</td>\n",
       "      <td>2</td>\n",
       "      <td>61630.0</td>\n",
       "      <td>1.0</td>\n",
       "      <td>16</td>\n",
       "      <td>NaN</td>\n",
       "      <td>NaN</td>\n",
       "      <td>0</td>\n",
       "      <td>0</td>\n",
       "      <td>61630.0</td>\n",
       "    </tr>\n",
       "  </tbody>\n",
       "</table>\n",
       "</div>"
      ],
      "text/plain": [
       "                                             cust_id debit_credit  tx_date  \\\n",
       "0  0172056578071e83399216fcd640bdc4de4583149d0fd9...           CR       36   \n",
       "1  0172056578071e83399216fcd640bdc4de4583149d0fd9...           CR       42   \n",
       "2  0172056578071e83399216fcd640bdc4de4583149d0fd9...           CR       39   \n",
       "3  0172056578071e83399216fcd640bdc4de4583149d0fd9...           CR       49   \n",
       "4  0172056578071e83399216fcd640bdc4de4583149d0fd9...           CR       70   \n",
       "\n",
       "   tx_time  tx_type    tx_amt  exchg_rate  info_asset_code  fiscTxId  \\\n",
       "0       18        2   68265.0         1.0               16       NaN   \n",
       "1       17        2  932058.0         1.0               16       NaN   \n",
       "2       18        2    6089.0         1.0               16       NaN   \n",
       "3       15        2  776715.0         1.0               16       NaN   \n",
       "4       19        2   61630.0         1.0               16       NaN   \n",
       "\n",
       "   txbranch  cross_bank  ATM       NTD  \n",
       "0       NaN           0    0   68265.0  \n",
       "1       NaN           0    0  932058.0  \n",
       "2       NaN           0    0    6089.0  \n",
       "3       NaN           0    0  776715.0  \n",
       "4       NaN           0    0   61630.0  "
      ]
     },
     "execution_count": 106,
     "metadata": {},
     "output_type": "execute_result"
    }
   ],
   "source": [
    "dp['NTD'] = dp['tx_amt']*dp['exchg_rate']\n",
    "dp.head()"
   ]
  },
  {
   "cell_type": "markdown",
   "metadata": {},
   "source": [
    "- Is dp.exchg_rate corresponding to cdtx.cur_type?"
   ]
  },
  {
   "cell_type": "code",
   "execution_count": 80,
   "metadata": {},
   "outputs": [
    {
     "data": {
      "text/plain": [
       "223644"
      ]
     },
     "execution_count": 80,
     "metadata": {},
     "output_type": "execute_result"
    }
   ],
   "source": [
    "len(dp[dp.exchg_rate != 1.0]) "
   ]
  },
  {
   "cell_type": "markdown",
   "metadata": {},
   "source": [
    "- is nan in dp['fiscTxId'] and nan in dp['txbranch'] related?"
   ]
  },
  {
   "cell_type": "code",
   "execution_count": 32,
   "metadata": {},
   "outputs": [
    {
     "data": {
      "text/plain": [
       "0.5295362312660358"
      ]
     },
     "execution_count": 32,
     "metadata": {},
     "output_type": "execute_result"
    }
   ],
   "source": [
    "(dp['fiscTxId'] + dp['txbranch']).isnull().sum() / dp.shape[0]"
   ]
  },
  {
   "cell_type": "code",
   "execution_count": 147,
   "metadata": {},
   "outputs": [
    {
     "data": {
      "text/plain": [
       "<AxesSubplot:title={'center':'when do ppl dp'}>"
      ]
     },
     "execution_count": 147,
     "metadata": {},
     "output_type": "execute_result"
    },
    {
     "data": {
      "image/png": "[encoded data removed]",
      "text/plain": [
       "<Figure size 640x480 with 1 Axes>"
      ]
     },
     "metadata": {},
     "output_type": "display_data"
    }
   ],
   "source": [
    "dp.groupby('tx_time').size().plot(kind = 'pie', startangle=90, counterclock=False, title='when do ppl dp')"
   ]
  },
  {
   "cell_type": "code",
   "execution_count": 141,
   "metadata": {},
   "outputs": [
    {
     "data": {
      "text/plain": [
       "tx_time\n",
       "0      82389\n",
       "1     136109\n",
       "2      53011\n",
       "3      19809\n",
       "4      15243\n",
       "5      58295\n",
       "6      48793\n",
       "7      34486\n",
       "8      52330\n",
       "9      96335\n",
       "10    103523\n",
       "11    109221\n",
       "12     99814\n",
       "13    101241\n",
       "14    256104\n",
       "15    141697\n",
       "16     79392\n",
       "17     78830\n",
       "18     66354\n",
       "19     69689\n",
       "20     69358\n",
       "21     70063\n",
       "22     70794\n",
       "23     56938\n",
       "dtype: int64"
      ]
     },
     "execution_count": 141,
     "metadata": {},
     "output_type": "execute_result"
    }
   ],
   "source": [
    "dp.groupby('tx_time').size()"
   ]
  },
  {
   "cell_type": "code",
   "execution_count": 148,
   "metadata": {},
   "outputs": [
    {
     "data": {
      "text/plain": [
       "<AxesSubplot:title={'center':'fiscTxId'}>"
      ]
     },
     "execution_count": 148,
     "metadata": {},
     "output_type": "execute_result"
    },
    {
     "data": {
      "image/png": "[encoded data removed]",
      "text/plain": [
       "<Figure size 640x480 with 1 Axes>"
      ]
     },
     "metadata": {},
     "output_type": "display_data"
    }
   ],
   "source": [
    "dp.groupby('fiscTxId').size().plot(kind = 'pie', autopct='%.2f%%', title='fiscTxId')"
   ]
  },
  {
   "cell_type": "code",
   "execution_count": null,
   "metadata": {},
   "outputs": [
    {
     "ename": "",
     "evalue": "",
     "output_type": "error",
     "traceback": [
      "\u001b[1;31mFailed to interrupt the Kernel. \n",
      "\u001b[1;31mUnable to start Kernel 'dmenv (Python 3.10.4)' due to connection timeout. \n",
      "\u001b[1;31mView Jupyter <a href='command:jupyter.viewOutput'>log</a> for further details."
     ]
    },
    {
     "ename": "",
     "evalue": "",
     "output_type": "error",
     "traceback": [
      "\u001b[1;31mFailed to start the Kernel. \n",
      "\u001b[1;31mUnable to start Kernel 'dmenv (Python 3.10.4)' due to connection timeout. \n",
      "\u001b[1;31mView Jupyter <a href='command:jupyter.viewOutput'>log</a> for further details."
     ]
    }
   ],
   "source": [
    "dp.groupby('txbranch').size().plot(kind = 'bar',title='txbranch types')"
   ]
  },
  {
   "cell_type": "markdown",
   "metadata": {},
   "source": [
    "### dp, tx_type"
   ]
  },
  {
   "cell_type": "code",
   "execution_count": 153,
   "metadata": {},
   "outputs": [
    {
     "name": "stdout",
     "output_type": "stream",
     "text": [
      "2    1847519\n",
      "1     114317\n",
      "3       7982\n",
      "Name: tx_type, dtype: int64\n"
     ]
    }
   ],
   "source": [
    "print(dp['tx_type'].value_counts())"
   ]
  },
  {
   "cell_type": "markdown",
   "metadata": {},
   "source": [
    "### dp, tx_amt"
   ]
  },
  {
   "cell_type": "code",
   "execution_count": null,
   "metadata": {},
   "outputs": [
    {
     "data": {
      "text/plain": [
       "132"
      ]
     },
     "metadata": {},
     "output_type": "display_data"
    }
   ],
   "source": [
    "len(dp[dp['tx_amt'].isnull()].groupby('cust_id').size().index)"
   ]
  },
  {
   "cell_type": "code",
   "execution_count": 153,
   "metadata": {},
   "outputs": [
    {
     "data": {
      "text/plain": [
       "0           68265.0\n",
       "1          932058.0\n",
       "2            6089.0\n",
       "3          776715.0\n",
       "4           61630.0\n",
       "             ...   \n",
       "1968918      2507.0\n",
       "1968919      9026.0\n",
       "1968920      1509.0\n",
       "1968921     12335.0\n",
       "1968922      2011.0\n",
       "Name: NTD, Length: 30124, dtype: float64"
      ]
     },
     "execution_count": 153,
     "metadata": {},
     "output_type": "execute_result"
    }
   ],
   "source": [
    "dp.groupby('cust_id')['NTD'].head()"
   ]
  },
  {
   "cell_type": "markdown",
   "metadata": {},
   "source": [
    "## lets see what johndoe do "
   ]
  },
  {
   "cell_type": "code",
   "execution_count": 163,
   "metadata": {},
   "outputs": [
    {
     "data": {
      "text/html": [
       "<div>\n",
       "<style scoped>\n",
       "    .dataframe tbody tr th:only-of-type {\n",
       "        vertical-align: middle;\n",
       "    }\n",
       "\n",
       "    .dataframe tbody tr th {\n",
       "        vertical-align: top;\n",
       "    }\n",
       "\n",
       "    .dataframe thead th {\n",
       "        text-align: right;\n",
       "    }\n",
       "</style>\n",
       "<table border=\"1\" class=\"dataframe\">\n",
       "  <thead>\n",
       "    <tr style=\"text-align: right;\">\n",
       "      <th></th>\n",
       "      <th>cust_id</th>\n",
       "      <th>debit_credit</th>\n",
       "      <th>tx_date</th>\n",
       "      <th>tx_time</th>\n",
       "      <th>tx_type</th>\n",
       "      <th>tx_amt</th>\n",
       "      <th>exchg_rate</th>\n",
       "      <th>info_asset_code</th>\n",
       "      <th>fiscTxId</th>\n",
       "      <th>txbranch</th>\n",
       "      <th>cross_bank</th>\n",
       "      <th>ATM</th>\n",
       "      <th>NTD</th>\n",
       "    </tr>\n",
       "  </thead>\n",
       "  <tbody>\n",
       "    <tr>\n",
       "      <th>132</th>\n",
       "      <td>0172056578071e83399216fcd640bdc4de4583149d0fd9...</td>\n",
       "      <td>DB</td>\n",
       "      <td>350</td>\n",
       "      <td>20</td>\n",
       "      <td>2</td>\n",
       "      <td>37761.0</td>\n",
       "      <td>1.0</td>\n",
       "      <td>13</td>\n",
       "      <td>7.0</td>\n",
       "      <td>313.0</td>\n",
       "      <td>1</td>\n",
       "      <td>1</td>\n",
       "      <td>37761.0</td>\n",
       "    </tr>\n",
       "    <tr>\n",
       "      <th>135</th>\n",
       "      <td>0172056578071e83399216fcd640bdc4de4583149d0fd9...</td>\n",
       "      <td>DB</td>\n",
       "      <td>302</td>\n",
       "      <td>22</td>\n",
       "      <td>2</td>\n",
       "      <td>2794.0</td>\n",
       "      <td>1.0</td>\n",
       "      <td>13</td>\n",
       "      <td>3.0</td>\n",
       "      <td>313.0</td>\n",
       "      <td>1</td>\n",
       "      <td>1</td>\n",
       "      <td>2794.0</td>\n",
       "    </tr>\n",
       "    <tr>\n",
       "      <th>136</th>\n",
       "      <td>0172056578071e83399216fcd640bdc4de4583149d0fd9...</td>\n",
       "      <td>DB</td>\n",
       "      <td>320</td>\n",
       "      <td>17</td>\n",
       "      <td>2</td>\n",
       "      <td>737.0</td>\n",
       "      <td>1.0</td>\n",
       "      <td>13</td>\n",
       "      <td>7.0</td>\n",
       "      <td>313.0</td>\n",
       "      <td>1</td>\n",
       "      <td>1</td>\n",
       "      <td>737.0</td>\n",
       "    </tr>\n",
       "    <tr>\n",
       "      <th>146</th>\n",
       "      <td>0172056578071e83399216fcd640bdc4de4583149d0fd9...</td>\n",
       "      <td>DB</td>\n",
       "      <td>378</td>\n",
       "      <td>20</td>\n",
       "      <td>2</td>\n",
       "      <td>19163.0</td>\n",
       "      <td>1.0</td>\n",
       "      <td>13</td>\n",
       "      <td>7.0</td>\n",
       "      <td>313.0</td>\n",
       "      <td>1</td>\n",
       "      <td>1</td>\n",
       "      <td>19163.0</td>\n",
       "    </tr>\n",
       "    <tr>\n",
       "      <th>151</th>\n",
       "      <td>0172056578071e83399216fcd640bdc4de4583149d0fd9...</td>\n",
       "      <td>DB</td>\n",
       "      <td>377</td>\n",
       "      <td>7</td>\n",
       "      <td>2</td>\n",
       "      <td>5138.0</td>\n",
       "      <td>1.0</td>\n",
       "      <td>13</td>\n",
       "      <td>7.0</td>\n",
       "      <td>313.0</td>\n",
       "      <td>1</td>\n",
       "      <td>1</td>\n",
       "      <td>5138.0</td>\n",
       "    </tr>\n",
       "    <tr>\n",
       "      <th>...</th>\n",
       "      <td>...</td>\n",
       "      <td>...</td>\n",
       "      <td>...</td>\n",
       "      <td>...</td>\n",
       "      <td>...</td>\n",
       "      <td>...</td>\n",
       "      <td>...</td>\n",
       "      <td>...</td>\n",
       "      <td>...</td>\n",
       "      <td>...</td>\n",
       "      <td>...</td>\n",
       "      <td>...</td>\n",
       "      <td>...</td>\n",
       "    </tr>\n",
       "    <tr>\n",
       "      <th>1969812</th>\n",
       "      <td>fff94defcc33daab190e702926d583f6d805294354addb...</td>\n",
       "      <td>CR</td>\n",
       "      <td>68</td>\n",
       "      <td>3</td>\n",
       "      <td>2</td>\n",
       "      <td>1030.0</td>\n",
       "      <td>1.0</td>\n",
       "      <td>13</td>\n",
       "      <td>4.0</td>\n",
       "      <td>313.0</td>\n",
       "      <td>1</td>\n",
       "      <td>1</td>\n",
       "      <td>1030.0</td>\n",
       "    </tr>\n",
       "    <tr>\n",
       "      <th>1969813</th>\n",
       "      <td>fff94defcc33daab190e702926d583f6d805294354addb...</td>\n",
       "      <td>CR</td>\n",
       "      <td>39</td>\n",
       "      <td>20</td>\n",
       "      <td>2</td>\n",
       "      <td>1030.0</td>\n",
       "      <td>1.0</td>\n",
       "      <td>13</td>\n",
       "      <td>4.0</td>\n",
       "      <td>313.0</td>\n",
       "      <td>1</td>\n",
       "      <td>1</td>\n",
       "      <td>1030.0</td>\n",
       "    </tr>\n",
       "    <tr>\n",
       "      <th>1969814</th>\n",
       "      <td>fff94defcc33daab190e702926d583f6d805294354addb...</td>\n",
       "      <td>CR</td>\n",
       "      <td>73</td>\n",
       "      <td>1</td>\n",
       "      <td>2</td>\n",
       "      <td>1030.0</td>\n",
       "      <td>1.0</td>\n",
       "      <td>13</td>\n",
       "      <td>4.0</td>\n",
       "      <td>144.0</td>\n",
       "      <td>1</td>\n",
       "      <td>1</td>\n",
       "      <td>1030.0</td>\n",
       "    </tr>\n",
       "    <tr>\n",
       "      <th>1969815</th>\n",
       "      <td>fff94defcc33daab190e702926d583f6d805294354addb...</td>\n",
       "      <td>CR</td>\n",
       "      <td>43</td>\n",
       "      <td>22</td>\n",
       "      <td>2</td>\n",
       "      <td>1648.0</td>\n",
       "      <td>1.0</td>\n",
       "      <td>13</td>\n",
       "      <td>7.0</td>\n",
       "      <td>313.0</td>\n",
       "      <td>1</td>\n",
       "      <td>1</td>\n",
       "      <td>1648.0</td>\n",
       "    </tr>\n",
       "    <tr>\n",
       "      <th>1969816</th>\n",
       "      <td>fff94defcc33daab190e702926d583f6d805294354addb...</td>\n",
       "      <td>DB</td>\n",
       "      <td>40</td>\n",
       "      <td>18</td>\n",
       "      <td>2</td>\n",
       "      <td>1030.0</td>\n",
       "      <td>1.0</td>\n",
       "      <td>13</td>\n",
       "      <td>3.0</td>\n",
       "      <td>310.0</td>\n",
       "      <td>1</td>\n",
       "      <td>1</td>\n",
       "      <td>1030.0</td>\n",
       "    </tr>\n",
       "  </tbody>\n",
       "</table>\n",
       "<p>595551 rows × 13 columns</p>\n",
       "</div>"
      ],
      "text/plain": [
       "                                                   cust_id debit_credit  \\\n",
       "132      0172056578071e83399216fcd640bdc4de4583149d0fd9...           DB   \n",
       "135      0172056578071e83399216fcd640bdc4de4583149d0fd9...           DB   \n",
       "136      0172056578071e83399216fcd640bdc4de4583149d0fd9...           DB   \n",
       "146      0172056578071e83399216fcd640bdc4de4583149d0fd9...           DB   \n",
       "151      0172056578071e83399216fcd640bdc4de4583149d0fd9...           DB   \n",
       "...                                                    ...          ...   \n",
       "1969812  fff94defcc33daab190e702926d583f6d805294354addb...           CR   \n",
       "1969813  fff94defcc33daab190e702926d583f6d805294354addb...           CR   \n",
       "1969814  fff94defcc33daab190e702926d583f6d805294354addb...           CR   \n",
       "1969815  fff94defcc33daab190e702926d583f6d805294354addb...           CR   \n",
       "1969816  fff94defcc33daab190e702926d583f6d805294354addb...           DB   \n",
       "\n",
       "         tx_date  tx_time  tx_type   tx_amt  exchg_rate  info_asset_code  \\\n",
       "132          350       20        2  37761.0         1.0               13   \n",
       "135          302       22        2   2794.0         1.0               13   \n",
       "136          320       17        2    737.0         1.0               13   \n",
       "146          378       20        2  19163.0         1.0               13   \n",
       "151          377        7        2   5138.0         1.0               13   \n",
       "...          ...      ...      ...      ...         ...              ...   \n",
       "1969812       68        3        2   1030.0         1.0               13   \n",
       "1969813       39       20        2   1030.0         1.0               13   \n",
       "1969814       73        1        2   1030.0         1.0               13   \n",
       "1969815       43       22        2   1648.0         1.0               13   \n",
       "1969816       40       18        2   1030.0         1.0               13   \n",
       "\n",
       "         fiscTxId  txbranch  cross_bank  ATM      NTD  \n",
       "132           7.0     313.0           1    1  37761.0  \n",
       "135           3.0     313.0           1    1   2794.0  \n",
       "136           7.0     313.0           1    1    737.0  \n",
       "146           7.0     313.0           1    1  19163.0  \n",
       "151           7.0     313.0           1    1   5138.0  \n",
       "...           ...       ...         ...  ...      ...  \n",
       "1969812       4.0     313.0           1    1   1030.0  \n",
       "1969813       4.0     313.0           1    1   1030.0  \n",
       "1969814       4.0     144.0           1    1   1030.0  \n",
       "1969815       7.0     313.0           1    1   1648.0  \n",
       "1969816       3.0     310.0           1    1   1030.0  \n",
       "\n",
       "[595551 rows x 13 columns]"
      ]
     },
     "execution_count": 163,
     "metadata": {},
     "output_type": "execute_result"
    }
   ],
   "source": [
    "dp.loc[ (dp['cross_bank']==1) & (dp['fiscTxId'].notnull()) & (dp['txbranch'].notnull())]"
   ]
  },
  {
   "cell_type": "markdown",
   "metadata": {},
   "source": [
    "## Concat the dfs by same `cust_id`"
   ]
  },
  {
   "cell_type": "markdown",
   "metadata": {},
   "source": [
    "if we use `json` file, it would look like this:\n",
    "```\n",
    "id_df:{\n",
    "    id1:{ccba:{lupay:[0:13],\n",
    "               cycam:[0:13],\n",
    "               usgam:[0:13],...},\n",
    "        cdtx:{date:[],\n",
    "              country:[],...},\n",
    "        info:{alert_key:[],\n",
    "              risk_rank:[],...},\n",
    "        dp:{dp_cd:[],\n",
    "            date:[],...},\n",
    "        remit:{date:[],\n",
    "               no:[],\n",
    "               amt:[]}\n",
    "        }\n",
    "    id2:{}\n",
    "}\n",
    "```"
   ]
  },
  {
   "cell_type": "code",
   "execution_count": 9,
   "metadata": {},
   "outputs": [],
   "source": [
    "id_ccba = ccba.groupby('cust_id')\n",
    "id_cdtx = cdtx.groupby('cust_id')\n",
    "id_info = custinfo.groupby('cust_id')\n",
    "id_dp = dp.groupby('cust_id')\n",
    "id_remit = remit.groupby('cust_id')"
   ]
  },
  {
   "cell_type": "code",
   "execution_count": 11,
   "metadata": {},
   "outputs": [
    {
     "name": "stdout",
     "output_type": "stream",
     "text": [
      "4745 3945 7708 6196 1144\n"
     ]
    }
   ],
   "source": [
    "print(len(id_ccba), len(id_cdtx), len(id_info), len(id_dp), len(id_remit))"
   ]
  },
  {
   "cell_type": "code",
   "execution_count": null,
   "metadata": {},
   "outputs": [],
   "source": [
    "## this line would crack down my computer\n",
    "# df = ccba.merge(cdtx,on='cust_id',how='outer').merge(custinfo,on='cust_id',how='outer').merge(dp,on='cust_id',how='outer').merge(remit,on='cust_id',how='outer')"
   ]
  }
 ],
 "metadata": {
  "kernelspec": {
   "display_name": "Python 3.10.4 ('dmenv')",
   "language": "python",
   "name": "python3"
  },
  "language_info": {
   "codemirror_mode": {
    "name": "ipython",
    "version": 3
   },
   "file_extension": ".py",
   "mimetype": "text/x-python",
   "name": "python",
   "nbconvert_exporter": "python",
   "pygments_lexer": "ipython3",
   "version": "3.10.4"
  },
  "orig_nbformat": 4,
  "vscode": {
   "interpreter": {
    "hash": "16fb4209bb1c3dc7d0ab6428882f289ed7c7e88b0f04ee5cc4926239416e1331"
   }
  }
 },
 "nbformat": 4,
 "nbformat_minor": 2
}
