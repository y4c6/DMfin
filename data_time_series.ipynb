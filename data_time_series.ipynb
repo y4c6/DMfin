{
 "cells": [
  {
   "cell_type": "markdown",
   "metadata": {},
   "source": [
    "## import pkg"
   ]
  },
  {
   "cell_type": "code",
   "execution_count": 1,
   "metadata": {},
   "outputs": [],
   "source": [
    "# import sktime"
   ]
  },
  {
   "cell_type": "markdown",
   "metadata": {},
   "source": [
    "### for preprocessing, we have different methods for different column (horizontal)"
   ]
  },
  {
   "cell_type": "code",
   "execution_count": 5,
   "metadata": {},
   "outputs": [],
   "source": [
    "from sklearn.compose import ColumnTransformer"
   ]
  },
  {
   "cell_type": "markdown",
   "metadata": {},
   "source": [
    "### for model training, we have step-by-step methods (vertical)"
   ]
  },
  {
   "cell_type": "code",
   "execution_count": 6,
   "metadata": {},
   "outputs": [],
   "source": [
    "from sklearn.pipeline import make_pipeline"
   ]
  },
  {
   "cell_type": "markdown",
   "metadata": {},
   "source": [
    "### for Nan Numerical data in dp, i use KNNImputer"
   ]
  },
  {
   "cell_type": "code",
   "execution_count": 7,
   "metadata": {},
   "outputs": [],
   "source": [
    "from sklearn.impute import KNNImputer"
   ]
  },
  {
   "attachments": {},
   "cell_type": "markdown",
   "metadata": {},
   "source": [
    "### for Nan categorical data, i use sklearn.impute.SimpleImputer"
   ]
  },
  {
   "cell_type": "code",
   "execution_count": null,
   "metadata": {},
   "outputs": [],
   "source": [
    "from sklearn.impute import SimpleImputer"
   ]
  },
  {
   "attachments": {},
   "cell_type": "markdown",
   "metadata": {},
   "source": [
    "### for categorical data, i use pd.series.astype(\"category\")"
   ]
  },
  {
   "attachments": {},
   "cell_type": "markdown",
   "metadata": {},
   "source": [
    "df = pd.DataFrame({\"A\": list(\"abca\"), \"B\": list(\"bccd\")})\n",
    "convert just columns \"a\" and \"b\"\n",
    "df[[\"a\", \"b\"]] = df[[\"a\", \"b\"]].apply(pd.to_numeric)"
   ]
  },
  {
   "cell_type": "markdown",
   "metadata": {},
   "source": [
    "### for numerical data, i use stdscaler"
   ]
  },
  {
   "cell_type": "code",
   "execution_count": 5,
   "metadata": {},
   "outputs": [],
   "source": [
    "from sklearn.preprocessing import StandardScaler"
   ]
  },
  {
   "cell_type": "markdown",
   "metadata": {},
   "source": [
    "## load dataset"
   ]
  },
  {
   "cell_type": "code",
   "execution_count": 1,
   "metadata": {},
   "outputs": [],
   "source": [
    "path = \"D:/202209/tbrain/訓練資料集_first/\"\n",
    "import os\n",
    "os.chdir(path)\n",
    "# import glob\n",
    "# print(glob.glob(os.path.join(path, \"*.csv\")))\n",
    "## 備註\n",
    "## 這邊利用 os.path.join 來連接指定字串形成路徑，因為不同系統下的分隔符號可能不同"
   ]
  },
  {
   "cell_type": "code",
   "execution_count": 2,
   "metadata": {},
   "outputs": [],
   "source": [
    "import pandas as pd"
   ]
  },
  {
   "cell_type": "code",
   "execution_count": 3,
   "metadata": {},
   "outputs": [],
   "source": [
    "ccba = pd.read_csv(\"public_train_x_ccba_full_hashed.csv\")\n",
    "cdtx = pd.read_csv(\"public_train_x_cdtx0001_full_hashed.csv\")\n",
    "custinfo = pd.read_csv(\"public_train_x_custinfo_full_hashed.csv\")\n",
    "dp = pd.read_csv(\"public_train_x_dp_full_hashed.csv\")\n",
    "remit = pd.read_csv(\"public_train_x_remit1_full_hashed.csv\")\n",
    "alert_public = pd.read_csv(\"public_x_alert_date.csv\")\n",
    "alert_train = pd.read_csv(\"train_x_alert_date.csv\")\n",
    "y = pd.read_csv(\"train_y_answer.csv\")"
   ]
  },
  {
   "cell_type": "markdown",
   "metadata": {},
   "source": [
    "## Prepare training/testing target"
   ]
  },
  {
   "cell_type": "code",
   "execution_count": 11,
   "metadata": {},
   "outputs": [
    {
     "data": {
      "text/html": [
       "<div>\n",
       "<style scoped>\n",
       "    .dataframe tbody tr th:only-of-type {\n",
       "        vertical-align: middle;\n",
       "    }\n",
       "\n",
       "    .dataframe tbody tr th {\n",
       "        vertical-align: top;\n",
       "    }\n",
       "\n",
       "    .dataframe thead th {\n",
       "        text-align: right;\n",
       "    }\n",
       "</style>\n",
       "<table border=\"1\" class=\"dataframe\">\n",
       "  <thead>\n",
       "    <tr style=\"text-align: right;\">\n",
       "      <th></th>\n",
       "      <th>alert_key</th>\n",
       "      <th>sar_flag</th>\n",
       "      <th>date</th>\n",
       "      <th>cust_id</th>\n",
       "      <th>risk_rank</th>\n",
       "      <th>occupation_code</th>\n",
       "      <th>total_asset</th>\n",
       "      <th>AGE</th>\n",
       "    </tr>\n",
       "  </thead>\n",
       "  <tbody>\n",
       "    <tr>\n",
       "      <th>0</th>\n",
       "      <td>171189</td>\n",
       "      <td>0</td>\n",
       "      <td>0</td>\n",
       "      <td>972ee157e63316e8a50dd489bc93730a3ee8a8959d5c6b...</td>\n",
       "      <td>1</td>\n",
       "      <td>17.0</td>\n",
       "      <td>375576.0</td>\n",
       "      <td>4</td>\n",
       "    </tr>\n",
       "    <tr>\n",
       "      <th>1</th>\n",
       "      <td>171202</td>\n",
       "      <td>0</td>\n",
       "      <td>0</td>\n",
       "      <td>a10ab33f90926fb18d7bb5e78034d7f04a1fbed95b7951...</td>\n",
       "      <td>3</td>\n",
       "      <td>12.0</td>\n",
       "      <td>2717416.0</td>\n",
       "      <td>2</td>\n",
       "    </tr>\n",
       "    <tr>\n",
       "      <th>2</th>\n",
       "      <td>171599</td>\n",
       "      <td>0</td>\n",
       "      <td>0</td>\n",
       "      <td>3433ecc068ed1c9e2f5037cab5d42d7b901e9bd624c1fb...</td>\n",
       "      <td>1</td>\n",
       "      <td>12.0</td>\n",
       "      <td>326517.0</td>\n",
       "      <td>4</td>\n",
       "    </tr>\n",
       "    <tr>\n",
       "      <th>3</th>\n",
       "      <td>171737</td>\n",
       "      <td>0</td>\n",
       "      <td>0</td>\n",
       "      <td>a0861608615a9365d90f4ba0a813c0ea0471987f925c8b...</td>\n",
       "      <td>3</td>\n",
       "      <td>14.0</td>\n",
       "      <td>1014759.0</td>\n",
       "      <td>4</td>\n",
       "    </tr>\n",
       "    <tr>\n",
       "      <th>4</th>\n",
       "      <td>171142</td>\n",
       "      <td>0</td>\n",
       "      <td>0</td>\n",
       "      <td>a39fea9aec90969fe66a2b2b4d1b86368a2d38e8b8d4bf...</td>\n",
       "      <td>3</td>\n",
       "      <td>12.0</td>\n",
       "      <td>241719.0</td>\n",
       "      <td>3</td>\n",
       "    </tr>\n",
       "  </tbody>\n",
       "</table>\n",
       "</div>"
      ],
      "text/plain": [
       "   alert_key  sar_flag  date  \\\n",
       "0     171189         0     0   \n",
       "1     171202         0     0   \n",
       "2     171599         0     0   \n",
       "3     171737         0     0   \n",
       "4     171142         0     0   \n",
       "\n",
       "                                             cust_id  risk_rank  \\\n",
       "0  972ee157e63316e8a50dd489bc93730a3ee8a8959d5c6b...          1   \n",
       "1  a10ab33f90926fb18d7bb5e78034d7f04a1fbed95b7951...          3   \n",
       "2  3433ecc068ed1c9e2f5037cab5d42d7b901e9bd624c1fb...          1   \n",
       "3  a0861608615a9365d90f4ba0a813c0ea0471987f925c8b...          3   \n",
       "4  a39fea9aec90969fe66a2b2b4d1b86368a2d38e8b8d4bf...          3   \n",
       "\n",
       "   occupation_code  total_asset  AGE  \n",
       "0             17.0     375576.0    4  \n",
       "1             12.0    2717416.0    2  \n",
       "2             12.0     326517.0    4  \n",
       "3             14.0    1014759.0    4  \n",
       "4             12.0     241719.0    3  "
      ]
     },
     "execution_count": 11,
     "metadata": {},
     "output_type": "execute_result"
    }
   ],
   "source": [
    "train = y.join(alert_train.set_index('alert_key'), on='alert_key')\n",
    "train = train.join(custinfo.set_index('alert_key'), on='alert_key')\n",
    "train.head()"
   ]
  },
  {
   "cell_type": "code",
   "execution_count": 12,
   "metadata": {},
   "outputs": [
    {
     "data": {
      "text/html": [
       "<div>\n",
       "<style scoped>\n",
       "    .dataframe tbody tr th:only-of-type {\n",
       "        vertical-align: middle;\n",
       "    }\n",
       "\n",
       "    .dataframe tbody tr th {\n",
       "        vertical-align: top;\n",
       "    }\n",
       "\n",
       "    .dataframe thead th {\n",
       "        text-align: right;\n",
       "    }\n",
       "</style>\n",
       "<table border=\"1\" class=\"dataframe\">\n",
       "  <thead>\n",
       "    <tr style=\"text-align: right;\">\n",
       "      <th></th>\n",
       "      <th>alert_key</th>\n",
       "      <th>sar_flag</th>\n",
       "      <th>date</th>\n",
       "      <th>cust_id</th>\n",
       "      <th>risk_rank</th>\n",
       "      <th>occupation_code</th>\n",
       "      <th>total_asset</th>\n",
       "      <th>AGE</th>\n",
       "    </tr>\n",
       "  </thead>\n",
       "  <tbody>\n",
       "    <tr>\n",
       "      <th>0</th>\n",
       "      <td>171189</td>\n",
       "      <td>0</td>\n",
       "      <td>NaN</td>\n",
       "      <td>972ee157e63316e8a50dd489bc93730a3ee8a8959d5c6b...</td>\n",
       "      <td>1</td>\n",
       "      <td>17.0</td>\n",
       "      <td>375576.0</td>\n",
       "      <td>4</td>\n",
       "    </tr>\n",
       "    <tr>\n",
       "      <th>1</th>\n",
       "      <td>171202</td>\n",
       "      <td>0</td>\n",
       "      <td>NaN</td>\n",
       "      <td>a10ab33f90926fb18d7bb5e78034d7f04a1fbed95b7951...</td>\n",
       "      <td>3</td>\n",
       "      <td>12.0</td>\n",
       "      <td>2717416.0</td>\n",
       "      <td>2</td>\n",
       "    </tr>\n",
       "    <tr>\n",
       "      <th>2</th>\n",
       "      <td>171599</td>\n",
       "      <td>0</td>\n",
       "      <td>NaN</td>\n",
       "      <td>3433ecc068ed1c9e2f5037cab5d42d7b901e9bd624c1fb...</td>\n",
       "      <td>1</td>\n",
       "      <td>12.0</td>\n",
       "      <td>326517.0</td>\n",
       "      <td>4</td>\n",
       "    </tr>\n",
       "    <tr>\n",
       "      <th>3</th>\n",
       "      <td>171737</td>\n",
       "      <td>0</td>\n",
       "      <td>NaN</td>\n",
       "      <td>a0861608615a9365d90f4ba0a813c0ea0471987f925c8b...</td>\n",
       "      <td>3</td>\n",
       "      <td>14.0</td>\n",
       "      <td>1014759.0</td>\n",
       "      <td>4</td>\n",
       "    </tr>\n",
       "    <tr>\n",
       "      <th>4</th>\n",
       "      <td>171142</td>\n",
       "      <td>0</td>\n",
       "      <td>NaN</td>\n",
       "      <td>a39fea9aec90969fe66a2b2b4d1b86368a2d38e8b8d4bf...</td>\n",
       "      <td>3</td>\n",
       "      <td>12.0</td>\n",
       "      <td>241719.0</td>\n",
       "      <td>3</td>\n",
       "    </tr>\n",
       "  </tbody>\n",
       "</table>\n",
       "</div>"
      ],
      "text/plain": [
       "   alert_key  sar_flag  date  \\\n",
       "0     171189         0   NaN   \n",
       "1     171202         0   NaN   \n",
       "2     171599         0   NaN   \n",
       "3     171737         0   NaN   \n",
       "4     171142         0   NaN   \n",
       "\n",
       "                                             cust_id  risk_rank  \\\n",
       "0  972ee157e63316e8a50dd489bc93730a3ee8a8959d5c6b...          1   \n",
       "1  a10ab33f90926fb18d7bb5e78034d7f04a1fbed95b7951...          3   \n",
       "2  3433ecc068ed1c9e2f5037cab5d42d7b901e9bd624c1fb...          1   \n",
       "3  a0861608615a9365d90f4ba0a813c0ea0471987f925c8b...          3   \n",
       "4  a39fea9aec90969fe66a2b2b4d1b86368a2d38e8b8d4bf...          3   \n",
       "\n",
       "   occupation_code  total_asset  AGE  \n",
       "0             17.0     375576.0    4  \n",
       "1             12.0    2717416.0    2  \n",
       "2             12.0     326517.0    4  \n",
       "3             14.0    1014759.0    4  \n",
       "4             12.0     241719.0    3  "
      ]
     },
     "execution_count": 12,
     "metadata": {},
     "output_type": "execute_result"
    }
   ],
   "source": [
    "test = y.join(alert_public.set_index('alert_key'), on='alert_key')\n",
    "test = test.join(custinfo.set_index('alert_key'), on='alert_key')\n",
    "test.head()"
   ]
  },
  {
   "cell_type": "code",
   "execution_count": null,
   "metadata": {},
   "outputs": [],
   "source": [
    "alert_join = pd.concat([alert_train, alert_public],axis=0)\n",
    "alert_join = alert_join.join(custinfo.set_index('alert_key'), on='alert_key')\n",
    "alert_join.iloc[23900:23910]"
   ]
  },
  {
   "cell_type": "code",
   "execution_count": null,
   "metadata": {},
   "outputs": [],
   "source": [
    "alert_join_y = alert_join.join(y.set_index('alert_key'), on='alert_key')\n",
    "alert_join_y1 = alert_join_y[alert_join_y['sar_flag']==1.0]\n",
    "alert_join_y1.nunique()"
   ]
  },
  {
   "cell_type": "markdown",
   "metadata": {},
   "source": [
    "## prepare sub-dataset"
   ]
  },
  {
   "cell_type": "code",
   "execution_count": 13,
   "metadata": {},
   "outputs": [],
   "source": [
    "import numpy as np"
   ]
  },
  {
   "cell_type": "code",
   "execution_count": 15,
   "metadata": {},
   "outputs": [],
   "source": [
    "imp_occu = SimpleImputer(strategy='constant', fill_value=40)\n",
    "custinfo[['occupation_code']] = imp_occu.fit_transform(custinfo[['occupation_code']])"
   ]
  },
  {
   "cell_type": "code",
   "execution_count": 16,
   "metadata": {},
   "outputs": [],
   "source": [
    "imp_fisc = SimpleImputer(strategy='constant', fill_value=30)\n",
    "dp[['fiscTxId']] = imp_occu.fit_transform(dp[['fiscTxId']])"
   ]
  },
  {
   "cell_type": "code",
   "execution_count": 17,
   "metadata": {},
   "outputs": [],
   "source": [
    "imp_branch = SimpleImputer(strategy='constant', fill_value=400)\n",
    "dp[['txbranch']] = imp_occu.fit_transform(dp[['txbranch']])"
   ]
  },
  {
   "attachments": {},
   "cell_type": "markdown",
   "metadata": {},
   "source": [
    "### transfer the categorical datas into pd.Categorical"
   ]
  },
  {
   "cell_type": "code",
   "execution_count": 18,
   "metadata": {},
   "outputs": [],
   "source": [
    "ccba[['byymm']] = pd.Categorical(ccba[['byymm']], ordered=True)\n",
    "\n",
    "cdtx[['date']] = pd.Categorical(cdtx[['date']], ordered=True)\n",
    "cdtx[['country', 'cur_type']] = pd.Categorical(cdtx[['country', 'cur_type']])\n",
    "\n",
    "custinfo[['risk_rank', 'AGE']] = pd.Categorical(custinfo[['risk_rank', 'AGE']], ordered=True)\n",
    "custinfo[['occupation_code']] = pd.Categorical(custinfo[['occupation_code']])\n",
    "\n",
    "dp[['tx_date', 'tx_time']] = pd.Categorical(dp[['tx_date', 'tx_time']], ordered=True)\n",
    "dp[['debit_credit', 'tx_type', 'info_asset_code', 'fiscTxId', 'txbranch', 'cross_bank', 'ATM']] = pd.Categorical(dp[['debit_credit', 'tx_type', 'info_asset_code', 'fiscTxId', 'txbranch', 'cross_bank', 'ATM']])\n",
    "\n",
    "remit[['trans_date']] = pd.Categorical(remit[['trans_date']], ordered=True)"
   ]
  },
  {
   "cell_type": "markdown",
   "metadata": {},
   "source": [
    "## prepare dp"
   ]
  },
  {
   "cell_type": "code",
   "execution_count": 19,
   "metadata": {},
   "outputs": [
    {
     "data": {
      "text/html": [
       "<div>\n",
       "<style scoped>\n",
       "    .dataframe tbody tr th:only-of-type {\n",
       "        vertical-align: middle;\n",
       "    }\n",
       "\n",
       "    .dataframe tbody tr th {\n",
       "        vertical-align: top;\n",
       "    }\n",
       "\n",
       "    .dataframe thead th {\n",
       "        text-align: right;\n",
       "    }\n",
       "</style>\n",
       "<table border=\"1\" class=\"dataframe\">\n",
       "  <thead>\n",
       "    <tr style=\"text-align: right;\">\n",
       "      <th></th>\n",
       "      <th>cust_id</th>\n",
       "      <th>debit_credit</th>\n",
       "      <th>tx_date</th>\n",
       "      <th>tx_time</th>\n",
       "      <th>tx_type</th>\n",
       "      <th>tx_amt</th>\n",
       "      <th>exchg_rate</th>\n",
       "      <th>info_asset_code</th>\n",
       "      <th>fiscTxId</th>\n",
       "      <th>txbranch</th>\n",
       "      <th>cross_bank</th>\n",
       "      <th>ATM</th>\n",
       "      <th>NTD</th>\n",
       "      <th>isNTD</th>\n",
       "    </tr>\n",
       "  </thead>\n",
       "  <tbody>\n",
       "    <tr>\n",
       "      <th>199</th>\n",
       "      <td>01b1735c3dbf0a35c1c989bb45434ce4326b365b73db06...</td>\n",
       "      <td>debit_credit</td>\n",
       "      <td>tx_date</td>\n",
       "      <td>tx_time</td>\n",
       "      <td>tx_type</td>\n",
       "      <td>3715.0</td>\n",
       "      <td>27.83</td>\n",
       "      <td>info_asset_code</td>\n",
       "      <td>fiscTxId</td>\n",
       "      <td>txbranch</td>\n",
       "      <td>cross_bank</td>\n",
       "      <td>ATM</td>\n",
       "      <td>103388.45</td>\n",
       "      <td>0</td>\n",
       "    </tr>\n",
       "    <tr>\n",
       "      <th>200</th>\n",
       "      <td>01b1735c3dbf0a35c1c989bb45434ce4326b365b73db06...</td>\n",
       "      <td>debit_credit</td>\n",
       "      <td>tx_date</td>\n",
       "      <td>tx_time</td>\n",
       "      <td>tx_type</td>\n",
       "      <td>5029.0</td>\n",
       "      <td>27.80</td>\n",
       "      <td>info_asset_code</td>\n",
       "      <td>fiscTxId</td>\n",
       "      <td>txbranch</td>\n",
       "      <td>cross_bank</td>\n",
       "      <td>ATM</td>\n",
       "      <td>139806.20</td>\n",
       "      <td>0</td>\n",
       "    </tr>\n",
       "    <tr>\n",
       "      <th>201</th>\n",
       "      <td>01b1735c3dbf0a35c1c989bb45434ce4326b365b73db06...</td>\n",
       "      <td>debit_credit</td>\n",
       "      <td>tx_date</td>\n",
       "      <td>tx_time</td>\n",
       "      <td>tx_type</td>\n",
       "      <td>3715.0</td>\n",
       "      <td>27.84</td>\n",
       "      <td>info_asset_code</td>\n",
       "      <td>fiscTxId</td>\n",
       "      <td>txbranch</td>\n",
       "      <td>cross_bank</td>\n",
       "      <td>ATM</td>\n",
       "      <td>103425.60</td>\n",
       "      <td>0</td>\n",
       "    </tr>\n",
       "    <tr>\n",
       "      <th>202</th>\n",
       "      <td>01b1735c3dbf0a35c1c989bb45434ce4326b365b73db06...</td>\n",
       "      <td>debit_credit</td>\n",
       "      <td>tx_date</td>\n",
       "      <td>tx_time</td>\n",
       "      <td>tx_type</td>\n",
       "      <td>8428.0</td>\n",
       "      <td>27.84</td>\n",
       "      <td>info_asset_code</td>\n",
       "      <td>fiscTxId</td>\n",
       "      <td>txbranch</td>\n",
       "      <td>cross_bank</td>\n",
       "      <td>ATM</td>\n",
       "      <td>234635.52</td>\n",
       "      <td>0</td>\n",
       "    </tr>\n",
       "    <tr>\n",
       "      <th>205</th>\n",
       "      <td>01b1735c3dbf0a35c1c989bb45434ce4326b365b73db06...</td>\n",
       "      <td>debit_credit</td>\n",
       "      <td>tx_date</td>\n",
       "      <td>tx_time</td>\n",
       "      <td>tx_type</td>\n",
       "      <td>2064.0</td>\n",
       "      <td>27.63</td>\n",
       "      <td>info_asset_code</td>\n",
       "      <td>fiscTxId</td>\n",
       "      <td>txbranch</td>\n",
       "      <td>cross_bank</td>\n",
       "      <td>ATM</td>\n",
       "      <td>57028.32</td>\n",
       "      <td>0</td>\n",
       "    </tr>\n",
       "  </tbody>\n",
       "</table>\n",
       "</div>"
      ],
      "text/plain": [
       "                                               cust_id  debit_credit  tx_date  \\\n",
       "199  01b1735c3dbf0a35c1c989bb45434ce4326b365b73db06...  debit_credit  tx_date   \n",
       "200  01b1735c3dbf0a35c1c989bb45434ce4326b365b73db06...  debit_credit  tx_date   \n",
       "201  01b1735c3dbf0a35c1c989bb45434ce4326b365b73db06...  debit_credit  tx_date   \n",
       "202  01b1735c3dbf0a35c1c989bb45434ce4326b365b73db06...  debit_credit  tx_date   \n",
       "205  01b1735c3dbf0a35c1c989bb45434ce4326b365b73db06...  debit_credit  tx_date   \n",
       "\n",
       "     tx_time  tx_type  tx_amt  exchg_rate  info_asset_code  fiscTxId  \\\n",
       "199  tx_time  tx_type  3715.0       27.83  info_asset_code  fiscTxId   \n",
       "200  tx_time  tx_type  5029.0       27.80  info_asset_code  fiscTxId   \n",
       "201  tx_time  tx_type  3715.0       27.84  info_asset_code  fiscTxId   \n",
       "202  tx_time  tx_type  8428.0       27.84  info_asset_code  fiscTxId   \n",
       "205  tx_time  tx_type  2064.0       27.63  info_asset_code  fiscTxId   \n",
       "\n",
       "     txbranch  cross_bank  ATM        NTD  isNTD  \n",
       "199  txbranch  cross_bank  ATM  103388.45      0  \n",
       "200  txbranch  cross_bank  ATM  139806.20      0  \n",
       "201  txbranch  cross_bank  ATM  103425.60      0  \n",
       "202  txbranch  cross_bank  ATM  234635.52      0  \n",
       "205  txbranch  cross_bank  ATM   57028.32      0  "
      ]
     },
     "execution_count": 19,
     "metadata": {},
     "output_type": "execute_result"
    }
   ],
   "source": [
    "# calculate into NTD\n",
    "dp['NTD'] = dp['tx_amt']*dp['exchg_rate'].round(2)\n",
    "\n",
    "# is it originally used NTD?\n",
    "dp['isNTD'] = dp.loc[dp[\"exchg_rate\"] == 1.0, \"isNTD\"] = 1\n",
    "dp['isNTD'] = dp.loc[dp[\"exchg_rate\"] != 1.0, \"isNTD\"] = 0\n",
    "\n",
    "dp[dp['exchg_rate']!=1.0].head()"
   ]
  },
  {
   "cell_type": "code",
   "execution_count": 4,
   "metadata": {},
   "outputs": [],
   "source": [
    "# dp[dp['tx_amt'].isnull()][:10]"
   ]
  },
  {
   "cell_type": "code",
   "execution_count": null,
   "metadata": {},
   "outputs": [],
   "source": [
    "dp[dp['tx_amt'].isnull()]"
   ]
  },
  {
   "cell_type": "code",
   "execution_count": null,
   "metadata": {},
   "outputs": [],
   "source": [
    "imputer_branch = SimpleImputer(strategy='median')\n",
    "\n",
    "dp[\"tx_amt\"] = imputer_branch.fit_transform(dp[[\"tx_amt\"]])\n"
   ]
  },
  {
   "cell_type": "code",
   "execution_count": 25,
   "metadata": {},
   "outputs": [],
   "source": [
    "# booooom\n",
    "# from sklearn.impute import KNNImputer\n",
    "\n",
    "imputer = KNNImputer(n_neighbors=2, weights=\"uniform\")\n",
    "\n",
    "# dp[\"tx_amt\"] = imputer.fit_transform(dp[[\"tx_amt\"]]).ravel()\n"
   ]
  },
  {
   "cell_type": "code",
   "execution_count": null,
   "metadata": {},
   "outputs": [],
   "source": []
  }
 ],
 "metadata": {
  "kernelspec": {
   "display_name": "Python 3.10.4 ('dmenv')",
   "language": "python",
   "name": "python3"
  },
  "language_info": {
   "codemirror_mode": {
    "name": "ipython",
    "version": 3
   },
   "file_extension": ".py",
   "mimetype": "text/x-python",
   "name": "python",
   "nbconvert_exporter": "python",
   "pygments_lexer": "ipython3",
   "version": "3.10.4 | packaged by conda-forge | (main, Mar 30 2022, 08:38:02) [MSC v.1916 64 bit (AMD64)]"
  },
  "orig_nbformat": 4,
  "vscode": {
   "interpreter": {
    "hash": "16fb4209bb1c3dc7d0ab6428882f289ed7c7e88b0f04ee5cc4926239416e1331"
   }
  }
 },
 "nbformat": 4,
 "nbformat_minor": 2
}
